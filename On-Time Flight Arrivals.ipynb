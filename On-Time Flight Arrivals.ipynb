{
  "nbformat": 4,
  "nbformat_minor": 0,
  "metadata": {
    "kernelspec": {
      "display_name": "Python 3",
      "language": "python",
      "name": "python3"
    },
    "language_info": {
      "codemirror_mode": {
        "name": "ipython",
        "version": 3
      },
      "file_extension": ".py",
      "mimetype": "text/x-python",
      "name": "python",
      "nbconvert_exporter": "python",
      "pygments_lexer": "ipython3",
      "version": "3.7.0"
    },
    "colab": {
      "name": "On-Time Flight Arrivals.ipynb",
      "provenance": [],
      "include_colab_link": true
    }
  },
  "cells": [
    {
      "cell_type": "markdown",
      "metadata": {
        "id": "view-in-github",
        "colab_type": "text"
      },
      "source": [
        "<a href=\"https://colab.research.google.com/github/skbansal5642/Flight_time_prediction/blob/master/On-Time%20Flight%20Arrivals.ipynb\" target=\"_parent\"><img src=\"https://colab.research.google.com/assets/colab-badge.svg\" alt=\"Open In Colab\"/></a>"
      ]
    },
    {
      "cell_type": "markdown",
      "metadata": {
        "id": "oXbyNNumSqc2",
        "colab_type": "text"
      },
      "source": [
        "    Import data into a notebook using curl\n",
        "    Use Pandas to clean and prepare data\n",
        "    Use scikit-learn to build a machine-learning model\n",
        "    Use Matplotlib to visualize the results"
      ]
    },
    {
      "cell_type": "markdown",
      "metadata": {
        "id": "Cscf2a8sSqc6",
        "colab_type": "text"
      },
      "source": [
        "### download the csv file from given url (work in bash shell)"
      ]
    },
    {
      "cell_type": "code",
      "metadata": {
        "id": "My2nxQcvSqc_",
        "colab_type": "code",
        "colab": {
          "base_uri": "https://localhost:8080/",
          "height": 69
        },
        "outputId": "411ee6cc-dc9d-4a09-e391-cfcaf5080550"
      },
      "source": [
        "!curl https://topcs.blob.core.windows.net/public/FlightData.csv -o flightdata.csv"
      ],
      "execution_count": 1,
      "outputs": [
        {
          "output_type": "stream",
          "text": [
            "  % Total    % Received % Xferd  Average Speed   Time    Time     Time  Current\n",
            "                                 Dload  Upload   Total   Spent    Left  Speed\n",
            "\r  0     0    0     0    0     0      0      0 --:--:-- --:--:-- --:--:--     0\r  0     0    0     0    0     0      0      0 --:--:-- --:--:-- --:--:--     0\r100 1552k  100 1552k    0     0  2345k      0 --:--:-- --:--:-- --:--:-- 2342k\n"
          ],
          "name": "stdout"
        }
      ]
    },
    {
      "cell_type": "markdown",
      "metadata": {
        "id": "cxXBCFxZSqdZ",
        "colab_type": "text"
      },
      "source": [
        "### load data and create a DataFrame & display 5 rows"
      ]
    },
    {
      "cell_type": "code",
      "metadata": {
        "id": "PK5W1RZBSqdd",
        "colab_type": "code",
        "colab": {
          "base_uri": "https://localhost:8080/",
          "height": 244
        },
        "outputId": "98808254-4704-470f-8c1e-cad31164cec3"
      },
      "source": [
        "import pandas as pd\n",
        "\n",
        "df = pd.read_csv('flightdata.csv')\n",
        "df.head()"
      ],
      "execution_count": 2,
      "outputs": [
        {
          "output_type": "execute_result",
          "data": {
            "text/html": [
              "<div>\n",
              "<style scoped>\n",
              "    .dataframe tbody tr th:only-of-type {\n",
              "        vertical-align: middle;\n",
              "    }\n",
              "\n",
              "    .dataframe tbody tr th {\n",
              "        vertical-align: top;\n",
              "    }\n",
              "\n",
              "    .dataframe thead th {\n",
              "        text-align: right;\n",
              "    }\n",
              "</style>\n",
              "<table border=\"1\" class=\"dataframe\">\n",
              "  <thead>\n",
              "    <tr style=\"text-align: right;\">\n",
              "      <th></th>\n",
              "      <th>YEAR</th>\n",
              "      <th>QUARTER</th>\n",
              "      <th>MONTH</th>\n",
              "      <th>DAY_OF_MONTH</th>\n",
              "      <th>DAY_OF_WEEK</th>\n",
              "      <th>UNIQUE_CARRIER</th>\n",
              "      <th>TAIL_NUM</th>\n",
              "      <th>FL_NUM</th>\n",
              "      <th>ORIGIN_AIRPORT_ID</th>\n",
              "      <th>ORIGIN</th>\n",
              "      <th>DEST_AIRPORT_ID</th>\n",
              "      <th>DEST</th>\n",
              "      <th>CRS_DEP_TIME</th>\n",
              "      <th>DEP_TIME</th>\n",
              "      <th>DEP_DELAY</th>\n",
              "      <th>DEP_DEL15</th>\n",
              "      <th>CRS_ARR_TIME</th>\n",
              "      <th>ARR_TIME</th>\n",
              "      <th>ARR_DELAY</th>\n",
              "      <th>ARR_DEL15</th>\n",
              "      <th>CANCELLED</th>\n",
              "      <th>DIVERTED</th>\n",
              "      <th>CRS_ELAPSED_TIME</th>\n",
              "      <th>ACTUAL_ELAPSED_TIME</th>\n",
              "      <th>DISTANCE</th>\n",
              "      <th>Unnamed: 25</th>\n",
              "    </tr>\n",
              "  </thead>\n",
              "  <tbody>\n",
              "    <tr>\n",
              "      <th>0</th>\n",
              "      <td>2016</td>\n",
              "      <td>1</td>\n",
              "      <td>1</td>\n",
              "      <td>1</td>\n",
              "      <td>5</td>\n",
              "      <td>DL</td>\n",
              "      <td>N836DN</td>\n",
              "      <td>1399</td>\n",
              "      <td>10397</td>\n",
              "      <td>ATL</td>\n",
              "      <td>14747</td>\n",
              "      <td>SEA</td>\n",
              "      <td>1905</td>\n",
              "      <td>1907.0</td>\n",
              "      <td>2.0</td>\n",
              "      <td>0.0</td>\n",
              "      <td>2143</td>\n",
              "      <td>2102.0</td>\n",
              "      <td>-41.0</td>\n",
              "      <td>0.0</td>\n",
              "      <td>0.0</td>\n",
              "      <td>0.0</td>\n",
              "      <td>338.0</td>\n",
              "      <td>295.0</td>\n",
              "      <td>2182.0</td>\n",
              "      <td>NaN</td>\n",
              "    </tr>\n",
              "    <tr>\n",
              "      <th>1</th>\n",
              "      <td>2016</td>\n",
              "      <td>1</td>\n",
              "      <td>1</td>\n",
              "      <td>1</td>\n",
              "      <td>5</td>\n",
              "      <td>DL</td>\n",
              "      <td>N964DN</td>\n",
              "      <td>1476</td>\n",
              "      <td>11433</td>\n",
              "      <td>DTW</td>\n",
              "      <td>13487</td>\n",
              "      <td>MSP</td>\n",
              "      <td>1345</td>\n",
              "      <td>1344.0</td>\n",
              "      <td>-1.0</td>\n",
              "      <td>0.0</td>\n",
              "      <td>1435</td>\n",
              "      <td>1439.0</td>\n",
              "      <td>4.0</td>\n",
              "      <td>0.0</td>\n",
              "      <td>0.0</td>\n",
              "      <td>0.0</td>\n",
              "      <td>110.0</td>\n",
              "      <td>115.0</td>\n",
              "      <td>528.0</td>\n",
              "      <td>NaN</td>\n",
              "    </tr>\n",
              "    <tr>\n",
              "      <th>2</th>\n",
              "      <td>2016</td>\n",
              "      <td>1</td>\n",
              "      <td>1</td>\n",
              "      <td>1</td>\n",
              "      <td>5</td>\n",
              "      <td>DL</td>\n",
              "      <td>N813DN</td>\n",
              "      <td>1597</td>\n",
              "      <td>10397</td>\n",
              "      <td>ATL</td>\n",
              "      <td>14747</td>\n",
              "      <td>SEA</td>\n",
              "      <td>940</td>\n",
              "      <td>942.0</td>\n",
              "      <td>2.0</td>\n",
              "      <td>0.0</td>\n",
              "      <td>1215</td>\n",
              "      <td>1142.0</td>\n",
              "      <td>-33.0</td>\n",
              "      <td>0.0</td>\n",
              "      <td>0.0</td>\n",
              "      <td>0.0</td>\n",
              "      <td>335.0</td>\n",
              "      <td>300.0</td>\n",
              "      <td>2182.0</td>\n",
              "      <td>NaN</td>\n",
              "    </tr>\n",
              "    <tr>\n",
              "      <th>3</th>\n",
              "      <td>2016</td>\n",
              "      <td>1</td>\n",
              "      <td>1</td>\n",
              "      <td>1</td>\n",
              "      <td>5</td>\n",
              "      <td>DL</td>\n",
              "      <td>N587NW</td>\n",
              "      <td>1768</td>\n",
              "      <td>14747</td>\n",
              "      <td>SEA</td>\n",
              "      <td>13487</td>\n",
              "      <td>MSP</td>\n",
              "      <td>819</td>\n",
              "      <td>820.0</td>\n",
              "      <td>1.0</td>\n",
              "      <td>0.0</td>\n",
              "      <td>1335</td>\n",
              "      <td>1345.0</td>\n",
              "      <td>10.0</td>\n",
              "      <td>0.0</td>\n",
              "      <td>0.0</td>\n",
              "      <td>0.0</td>\n",
              "      <td>196.0</td>\n",
              "      <td>205.0</td>\n",
              "      <td>1399.0</td>\n",
              "      <td>NaN</td>\n",
              "    </tr>\n",
              "    <tr>\n",
              "      <th>4</th>\n",
              "      <td>2016</td>\n",
              "      <td>1</td>\n",
              "      <td>1</td>\n",
              "      <td>1</td>\n",
              "      <td>5</td>\n",
              "      <td>DL</td>\n",
              "      <td>N836DN</td>\n",
              "      <td>1823</td>\n",
              "      <td>14747</td>\n",
              "      <td>SEA</td>\n",
              "      <td>11433</td>\n",
              "      <td>DTW</td>\n",
              "      <td>2300</td>\n",
              "      <td>2256.0</td>\n",
              "      <td>-4.0</td>\n",
              "      <td>0.0</td>\n",
              "      <td>607</td>\n",
              "      <td>615.0</td>\n",
              "      <td>8.0</td>\n",
              "      <td>0.0</td>\n",
              "      <td>0.0</td>\n",
              "      <td>0.0</td>\n",
              "      <td>247.0</td>\n",
              "      <td>259.0</td>\n",
              "      <td>1927.0</td>\n",
              "      <td>NaN</td>\n",
              "    </tr>\n",
              "  </tbody>\n",
              "</table>\n",
              "</div>"
            ],
            "text/plain": [
              "   YEAR  QUARTER  MONTH  ...  ACTUAL_ELAPSED_TIME  DISTANCE Unnamed: 25\n",
              "0  2016        1      1  ...                295.0    2182.0         NaN\n",
              "1  2016        1      1  ...                115.0     528.0         NaN\n",
              "2  2016        1      1  ...                300.0    2182.0         NaN\n",
              "3  2016        1      1  ...                205.0    1399.0         NaN\n",
              "4  2016        1      1  ...                259.0    1927.0         NaN\n",
              "\n",
              "[5 rows x 26 columns]"
            ]
          },
          "metadata": {
            "tags": []
          },
          "execution_count": 2
        }
      ]
    },
    {
      "cell_type": "code",
      "metadata": {
        "id": "I9NCThCMSqds",
        "colab_type": "code",
        "colab": {
          "base_uri": "https://localhost:8080/",
          "height": 34
        },
        "outputId": "d7a7f3f5-c005-4450-869c-dc21d821198b"
      },
      "source": [
        "# shows total no. of rows and columns\n",
        "df.shape"
      ],
      "execution_count": 3,
      "outputs": [
        {
          "output_type": "execute_result",
          "data": {
            "text/plain": [
              "(11231, 26)"
            ]
          },
          "metadata": {
            "tags": []
          },
          "execution_count": 3
        }
      ]
    },
    {
      "cell_type": "code",
      "metadata": {
        "id": "5dzrsRPiSqd5",
        "colab_type": "code",
        "colab": {
          "base_uri": "https://localhost:8080/",
          "height": 34
        },
        "outputId": "a9342533-fb13-4a09-a3ca-5d8e9c71e0b5"
      },
      "source": [
        "# check whether any value is missing in dataset\n",
        "df.isnull().values.any()"
      ],
      "execution_count": 4,
      "outputs": [
        {
          "output_type": "execute_result",
          "data": {
            "text/plain": [
              "True"
            ]
          },
          "metadata": {
            "tags": []
          },
          "execution_count": 4
        }
      ]
    },
    {
      "cell_type": "code",
      "metadata": {
        "id": "RLTXs4n2SqeG",
        "colab_type": "code",
        "colab": {
          "base_uri": "https://localhost:8080/",
          "height": 486
        },
        "outputId": "958df6a6-efdd-44b4-9852-ea91c7a53036"
      },
      "source": [
        "# find out where the missing values are\n",
        "df.isnull().sum()\n",
        "# shows no. of missing values in each column"
      ],
      "execution_count": 5,
      "outputs": [
        {
          "output_type": "execute_result",
          "data": {
            "text/plain": [
              "YEAR                       0\n",
              "QUARTER                    0\n",
              "MONTH                      0\n",
              "DAY_OF_MONTH               0\n",
              "DAY_OF_WEEK                0\n",
              "UNIQUE_CARRIER             0\n",
              "TAIL_NUM                   0\n",
              "FL_NUM                     0\n",
              "ORIGIN_AIRPORT_ID          0\n",
              "ORIGIN                     0\n",
              "DEST_AIRPORT_ID            0\n",
              "DEST                       0\n",
              "CRS_DEP_TIME               0\n",
              "DEP_TIME                 107\n",
              "DEP_DELAY                107\n",
              "DEP_DEL15                107\n",
              "CRS_ARR_TIME               0\n",
              "ARR_TIME                 115\n",
              "ARR_DELAY                188\n",
              "ARR_DEL15                188\n",
              "CANCELLED                  0\n",
              "DIVERTED                   0\n",
              "CRS_ELAPSED_TIME           0\n",
              "ACTUAL_ELAPSED_TIME      188\n",
              "DISTANCE                   0\n",
              "Unnamed: 25            11231\n",
              "dtype: int64"
            ]
          },
          "metadata": {
            "tags": []
          },
          "execution_count": 5
        }
      ]
    },
    {
      "cell_type": "code",
      "metadata": {
        "id": "dxQ7-unvSqeT",
        "colab_type": "code",
        "colab": {
          "base_uri": "https://localhost:8080/",
          "height": 469
        },
        "outputId": "b8b94990-5742-45ef-b078-95c5b82902ac"
      },
      "source": [
        "# as we see column (Unnamed: 25) has all rows NULL\n",
        "# It was created as dataset is in comma form\n",
        "# now, eleminate that column\n",
        "df = df.drop('Unnamed: 25', axis=1)\n",
        "df.isnull().sum()"
      ],
      "execution_count": 6,
      "outputs": [
        {
          "output_type": "execute_result",
          "data": {
            "text/plain": [
              "YEAR                     0\n",
              "QUARTER                  0\n",
              "MONTH                    0\n",
              "DAY_OF_MONTH             0\n",
              "DAY_OF_WEEK              0\n",
              "UNIQUE_CARRIER           0\n",
              "TAIL_NUM                 0\n",
              "FL_NUM                   0\n",
              "ORIGIN_AIRPORT_ID        0\n",
              "ORIGIN                   0\n",
              "DEST_AIRPORT_ID          0\n",
              "DEST                     0\n",
              "CRS_DEP_TIME             0\n",
              "DEP_TIME               107\n",
              "DEP_DELAY              107\n",
              "DEP_DEL15              107\n",
              "CRS_ARR_TIME             0\n",
              "ARR_TIME               115\n",
              "ARR_DELAY              188\n",
              "ARR_DEL15              188\n",
              "CANCELLED                0\n",
              "DIVERTED                 0\n",
              "CRS_ELAPSED_TIME         0\n",
              "ACTUAL_ELAPSED_TIME    188\n",
              "DISTANCE                 0\n",
              "dtype: int64"
            ]
          },
          "metadata": {
            "tags": []
          },
          "execution_count": 6
        }
      ]
    },
    {
      "cell_type": "code",
      "metadata": {
        "id": "RdASbHrnSqef",
        "colab_type": "code",
        "colab": {
          "base_uri": "https://localhost:8080/",
          "height": 156
        },
        "outputId": "9fd74f24-3c86-4272-c891-af57f1aa637c"
      },
      "source": [
        "# now we have to filter out the columns that we don't need\n",
        "# we will select the columns on which our prediction is highly dependent\n",
        "df = df[[\"MONTH\", \"DAY_OF_MONTH\", \"DAY_OF_WEEK\", \"ORIGIN\", \"DEST\", \"CRS_DEP_TIME\", \"ARR_DEL15\"]]\n",
        "df.isnull().sum()"
      ],
      "execution_count": 7,
      "outputs": [
        {
          "output_type": "execute_result",
          "data": {
            "text/plain": [
              "MONTH             0\n",
              "DAY_OF_MONTH      0\n",
              "DAY_OF_WEEK       0\n",
              "ORIGIN            0\n",
              "DEST              0\n",
              "CRS_DEP_TIME      0\n",
              "ARR_DEL15       188\n",
              "dtype: int64"
            ]
          },
          "metadata": {
            "tags": []
          },
          "execution_count": 7
        }
      ]
    },
    {
      "cell_type": "code",
      "metadata": {
        "id": "mBXB6JEjSqeo",
        "colab_type": "code",
        "colab": {
          "base_uri": "https://localhost:8080/",
          "height": 206
        },
        "outputId": "7a47fc98-8fb6-47d6-ef53-7825cbca476f"
      },
      "source": [
        "# show the first 5 missing values in ARR_DEL15 Column\n",
        "df[df.isnull().values.any(axis=1)].head()"
      ],
      "execution_count": 8,
      "outputs": [
        {
          "output_type": "execute_result",
          "data": {
            "text/html": [
              "<div>\n",
              "<style scoped>\n",
              "    .dataframe tbody tr th:only-of-type {\n",
              "        vertical-align: middle;\n",
              "    }\n",
              "\n",
              "    .dataframe tbody tr th {\n",
              "        vertical-align: top;\n",
              "    }\n",
              "\n",
              "    .dataframe thead th {\n",
              "        text-align: right;\n",
              "    }\n",
              "</style>\n",
              "<table border=\"1\" class=\"dataframe\">\n",
              "  <thead>\n",
              "    <tr style=\"text-align: right;\">\n",
              "      <th></th>\n",
              "      <th>MONTH</th>\n",
              "      <th>DAY_OF_MONTH</th>\n",
              "      <th>DAY_OF_WEEK</th>\n",
              "      <th>ORIGIN</th>\n",
              "      <th>DEST</th>\n",
              "      <th>CRS_DEP_TIME</th>\n",
              "      <th>ARR_DEL15</th>\n",
              "    </tr>\n",
              "  </thead>\n",
              "  <tbody>\n",
              "    <tr>\n",
              "      <th>177</th>\n",
              "      <td>1</td>\n",
              "      <td>9</td>\n",
              "      <td>6</td>\n",
              "      <td>MSP</td>\n",
              "      <td>SEA</td>\n",
              "      <td>701</td>\n",
              "      <td>NaN</td>\n",
              "    </tr>\n",
              "    <tr>\n",
              "      <th>179</th>\n",
              "      <td>1</td>\n",
              "      <td>10</td>\n",
              "      <td>7</td>\n",
              "      <td>MSP</td>\n",
              "      <td>DTW</td>\n",
              "      <td>1348</td>\n",
              "      <td>NaN</td>\n",
              "    </tr>\n",
              "    <tr>\n",
              "      <th>184</th>\n",
              "      <td>1</td>\n",
              "      <td>10</td>\n",
              "      <td>7</td>\n",
              "      <td>MSP</td>\n",
              "      <td>DTW</td>\n",
              "      <td>625</td>\n",
              "      <td>NaN</td>\n",
              "    </tr>\n",
              "    <tr>\n",
              "      <th>210</th>\n",
              "      <td>1</td>\n",
              "      <td>10</td>\n",
              "      <td>7</td>\n",
              "      <td>DTW</td>\n",
              "      <td>MSP</td>\n",
              "      <td>1200</td>\n",
              "      <td>NaN</td>\n",
              "    </tr>\n",
              "    <tr>\n",
              "      <th>478</th>\n",
              "      <td>1</td>\n",
              "      <td>22</td>\n",
              "      <td>5</td>\n",
              "      <td>SEA</td>\n",
              "      <td>JFK</td>\n",
              "      <td>2305</td>\n",
              "      <td>NaN</td>\n",
              "    </tr>\n",
              "  </tbody>\n",
              "</table>\n",
              "</div>"
            ],
            "text/plain": [
              "     MONTH  DAY_OF_MONTH  DAY_OF_WEEK ORIGIN DEST  CRS_DEP_TIME  ARR_DEL15\n",
              "177      1             9            6    MSP  SEA           701        NaN\n",
              "179      1            10            7    MSP  DTW          1348        NaN\n",
              "184      1            10            7    MSP  DTW           625        NaN\n",
              "210      1            10            7    DTW  MSP          1200        NaN\n",
              "478      1            22            5    SEA  JFK          2305        NaN"
            ]
          },
          "metadata": {
            "tags": []
          },
          "execution_count": 8
        }
      ]
    },
    {
      "cell_type": "code",
      "metadata": {
        "id": "71GvzZnhSqe1",
        "colab_type": "code",
        "colab": {
          "base_uri": "https://localhost:8080/",
          "height": 300
        },
        "outputId": "55204f05-11db-491d-c952-fbdaaf696219"
      },
      "source": [
        "# these values are missing if flights \n",
        "# have been cancelled or diverted to another airport.\n",
        "# These can be considered as late\n",
        "# We can use fun. \"dropna\" to remove these rows\n",
        "# but we use \"fillna\" to replace these NaN by '1'\n",
        "df = df.fillna({'ARR_DEL15': 1})\n",
        "df.iloc[177:185]"
      ],
      "execution_count": 9,
      "outputs": [
        {
          "output_type": "execute_result",
          "data": {
            "text/html": [
              "<div>\n",
              "<style scoped>\n",
              "    .dataframe tbody tr th:only-of-type {\n",
              "        vertical-align: middle;\n",
              "    }\n",
              "\n",
              "    .dataframe tbody tr th {\n",
              "        vertical-align: top;\n",
              "    }\n",
              "\n",
              "    .dataframe thead th {\n",
              "        text-align: right;\n",
              "    }\n",
              "</style>\n",
              "<table border=\"1\" class=\"dataframe\">\n",
              "  <thead>\n",
              "    <tr style=\"text-align: right;\">\n",
              "      <th></th>\n",
              "      <th>MONTH</th>\n",
              "      <th>DAY_OF_MONTH</th>\n",
              "      <th>DAY_OF_WEEK</th>\n",
              "      <th>ORIGIN</th>\n",
              "      <th>DEST</th>\n",
              "      <th>CRS_DEP_TIME</th>\n",
              "      <th>ARR_DEL15</th>\n",
              "    </tr>\n",
              "  </thead>\n",
              "  <tbody>\n",
              "    <tr>\n",
              "      <th>177</th>\n",
              "      <td>1</td>\n",
              "      <td>9</td>\n",
              "      <td>6</td>\n",
              "      <td>MSP</td>\n",
              "      <td>SEA</td>\n",
              "      <td>701</td>\n",
              "      <td>1.0</td>\n",
              "    </tr>\n",
              "    <tr>\n",
              "      <th>178</th>\n",
              "      <td>1</td>\n",
              "      <td>9</td>\n",
              "      <td>6</td>\n",
              "      <td>DTW</td>\n",
              "      <td>JFK</td>\n",
              "      <td>1527</td>\n",
              "      <td>0.0</td>\n",
              "    </tr>\n",
              "    <tr>\n",
              "      <th>179</th>\n",
              "      <td>1</td>\n",
              "      <td>10</td>\n",
              "      <td>7</td>\n",
              "      <td>MSP</td>\n",
              "      <td>DTW</td>\n",
              "      <td>1348</td>\n",
              "      <td>1.0</td>\n",
              "    </tr>\n",
              "    <tr>\n",
              "      <th>180</th>\n",
              "      <td>1</td>\n",
              "      <td>10</td>\n",
              "      <td>7</td>\n",
              "      <td>DTW</td>\n",
              "      <td>MSP</td>\n",
              "      <td>1540</td>\n",
              "      <td>0.0</td>\n",
              "    </tr>\n",
              "    <tr>\n",
              "      <th>181</th>\n",
              "      <td>1</td>\n",
              "      <td>10</td>\n",
              "      <td>7</td>\n",
              "      <td>JFK</td>\n",
              "      <td>ATL</td>\n",
              "      <td>1325</td>\n",
              "      <td>0.0</td>\n",
              "    </tr>\n",
              "    <tr>\n",
              "      <th>182</th>\n",
              "      <td>1</td>\n",
              "      <td>10</td>\n",
              "      <td>7</td>\n",
              "      <td>JFK</td>\n",
              "      <td>ATL</td>\n",
              "      <td>610</td>\n",
              "      <td>0.0</td>\n",
              "    </tr>\n",
              "    <tr>\n",
              "      <th>183</th>\n",
              "      <td>1</td>\n",
              "      <td>10</td>\n",
              "      <td>7</td>\n",
              "      <td>JFK</td>\n",
              "      <td>SEA</td>\n",
              "      <td>1615</td>\n",
              "      <td>0.0</td>\n",
              "    </tr>\n",
              "    <tr>\n",
              "      <th>184</th>\n",
              "      <td>1</td>\n",
              "      <td>10</td>\n",
              "      <td>7</td>\n",
              "      <td>MSP</td>\n",
              "      <td>DTW</td>\n",
              "      <td>625</td>\n",
              "      <td>1.0</td>\n",
              "    </tr>\n",
              "  </tbody>\n",
              "</table>\n",
              "</div>"
            ],
            "text/plain": [
              "     MONTH  DAY_OF_MONTH  DAY_OF_WEEK ORIGIN DEST  CRS_DEP_TIME  ARR_DEL15\n",
              "177      1             9            6    MSP  SEA           701        1.0\n",
              "178      1             9            6    DTW  JFK          1527        0.0\n",
              "179      1            10            7    MSP  DTW          1348        1.0\n",
              "180      1            10            7    DTW  MSP          1540        0.0\n",
              "181      1            10            7    JFK  ATL          1325        0.0\n",
              "182      1            10            7    JFK  ATL           610        0.0\n",
              "183      1            10            7    JFK  SEA          1615        0.0\n",
              "184      1            10            7    MSP  DTW           625        1.0"
            ]
          },
          "metadata": {
            "tags": []
          },
          "execution_count": 9
        }
      ]
    },
    {
      "cell_type": "code",
      "metadata": {
        "id": "RRf221cCSqe-",
        "colab_type": "code",
        "colab": {
          "base_uri": "https://localhost:8080/",
          "height": 206
        },
        "outputId": "f3c211e7-b941-4032-c5c4-01cb2e57ca8d"
      },
      "source": [
        "df.head()"
      ],
      "execution_count": 10,
      "outputs": [
        {
          "output_type": "execute_result",
          "data": {
            "text/html": [
              "<div>\n",
              "<style scoped>\n",
              "    .dataframe tbody tr th:only-of-type {\n",
              "        vertical-align: middle;\n",
              "    }\n",
              "\n",
              "    .dataframe tbody tr th {\n",
              "        vertical-align: top;\n",
              "    }\n",
              "\n",
              "    .dataframe thead th {\n",
              "        text-align: right;\n",
              "    }\n",
              "</style>\n",
              "<table border=\"1\" class=\"dataframe\">\n",
              "  <thead>\n",
              "    <tr style=\"text-align: right;\">\n",
              "      <th></th>\n",
              "      <th>MONTH</th>\n",
              "      <th>DAY_OF_MONTH</th>\n",
              "      <th>DAY_OF_WEEK</th>\n",
              "      <th>ORIGIN</th>\n",
              "      <th>DEST</th>\n",
              "      <th>CRS_DEP_TIME</th>\n",
              "      <th>ARR_DEL15</th>\n",
              "    </tr>\n",
              "  </thead>\n",
              "  <tbody>\n",
              "    <tr>\n",
              "      <th>0</th>\n",
              "      <td>1</td>\n",
              "      <td>1</td>\n",
              "      <td>5</td>\n",
              "      <td>ATL</td>\n",
              "      <td>SEA</td>\n",
              "      <td>1905</td>\n",
              "      <td>0.0</td>\n",
              "    </tr>\n",
              "    <tr>\n",
              "      <th>1</th>\n",
              "      <td>1</td>\n",
              "      <td>1</td>\n",
              "      <td>5</td>\n",
              "      <td>DTW</td>\n",
              "      <td>MSP</td>\n",
              "      <td>1345</td>\n",
              "      <td>0.0</td>\n",
              "    </tr>\n",
              "    <tr>\n",
              "      <th>2</th>\n",
              "      <td>1</td>\n",
              "      <td>1</td>\n",
              "      <td>5</td>\n",
              "      <td>ATL</td>\n",
              "      <td>SEA</td>\n",
              "      <td>940</td>\n",
              "      <td>0.0</td>\n",
              "    </tr>\n",
              "    <tr>\n",
              "      <th>3</th>\n",
              "      <td>1</td>\n",
              "      <td>1</td>\n",
              "      <td>5</td>\n",
              "      <td>SEA</td>\n",
              "      <td>MSP</td>\n",
              "      <td>819</td>\n",
              "      <td>0.0</td>\n",
              "    </tr>\n",
              "    <tr>\n",
              "      <th>4</th>\n",
              "      <td>1</td>\n",
              "      <td>1</td>\n",
              "      <td>5</td>\n",
              "      <td>SEA</td>\n",
              "      <td>DTW</td>\n",
              "      <td>2300</td>\n",
              "      <td>0.0</td>\n",
              "    </tr>\n",
              "  </tbody>\n",
              "</table>\n",
              "</div>"
            ],
            "text/plain": [
              "   MONTH  DAY_OF_MONTH  DAY_OF_WEEK ORIGIN DEST  CRS_DEP_TIME  ARR_DEL15\n",
              "0      1             1            5    ATL  SEA          1905        0.0\n",
              "1      1             1            5    DTW  MSP          1345        0.0\n",
              "2      1             1            5    ATL  SEA           940        0.0\n",
              "3      1             1            5    SEA  MSP           819        0.0\n",
              "4      1             1            5    SEA  DTW          2300        0.0"
            ]
          },
          "metadata": {
            "tags": []
          },
          "execution_count": 10
        }
      ]
    },
    {
      "cell_type": "code",
      "metadata": {
        "id": "mXgWjLjRSqfK",
        "colab_type": "code",
        "colab": {
          "base_uri": "https://localhost:8080/",
          "height": 206
        },
        "outputId": "4b93efb4-62ba-487e-9e74-b6690d38aacb"
      },
      "source": [
        "# now bin (quatized) the departure time\n",
        "import math\n",
        "\n",
        "for index, row in df.iterrows():\n",
        "    df.loc[index, 'CRS_DEP_TIME'] = math.floor(row['CRS_DEP_TIME'] / 100)\n",
        "df.head()"
      ],
      "execution_count": 11,
      "outputs": [
        {
          "output_type": "execute_result",
          "data": {
            "text/html": [
              "<div>\n",
              "<style scoped>\n",
              "    .dataframe tbody tr th:only-of-type {\n",
              "        vertical-align: middle;\n",
              "    }\n",
              "\n",
              "    .dataframe tbody tr th {\n",
              "        vertical-align: top;\n",
              "    }\n",
              "\n",
              "    .dataframe thead th {\n",
              "        text-align: right;\n",
              "    }\n",
              "</style>\n",
              "<table border=\"1\" class=\"dataframe\">\n",
              "  <thead>\n",
              "    <tr style=\"text-align: right;\">\n",
              "      <th></th>\n",
              "      <th>MONTH</th>\n",
              "      <th>DAY_OF_MONTH</th>\n",
              "      <th>DAY_OF_WEEK</th>\n",
              "      <th>ORIGIN</th>\n",
              "      <th>DEST</th>\n",
              "      <th>CRS_DEP_TIME</th>\n",
              "      <th>ARR_DEL15</th>\n",
              "    </tr>\n",
              "  </thead>\n",
              "  <tbody>\n",
              "    <tr>\n",
              "      <th>0</th>\n",
              "      <td>1</td>\n",
              "      <td>1</td>\n",
              "      <td>5</td>\n",
              "      <td>ATL</td>\n",
              "      <td>SEA</td>\n",
              "      <td>19</td>\n",
              "      <td>0.0</td>\n",
              "    </tr>\n",
              "    <tr>\n",
              "      <th>1</th>\n",
              "      <td>1</td>\n",
              "      <td>1</td>\n",
              "      <td>5</td>\n",
              "      <td>DTW</td>\n",
              "      <td>MSP</td>\n",
              "      <td>13</td>\n",
              "      <td>0.0</td>\n",
              "    </tr>\n",
              "    <tr>\n",
              "      <th>2</th>\n",
              "      <td>1</td>\n",
              "      <td>1</td>\n",
              "      <td>5</td>\n",
              "      <td>ATL</td>\n",
              "      <td>SEA</td>\n",
              "      <td>9</td>\n",
              "      <td>0.0</td>\n",
              "    </tr>\n",
              "    <tr>\n",
              "      <th>3</th>\n",
              "      <td>1</td>\n",
              "      <td>1</td>\n",
              "      <td>5</td>\n",
              "      <td>SEA</td>\n",
              "      <td>MSP</td>\n",
              "      <td>8</td>\n",
              "      <td>0.0</td>\n",
              "    </tr>\n",
              "    <tr>\n",
              "      <th>4</th>\n",
              "      <td>1</td>\n",
              "      <td>1</td>\n",
              "      <td>5</td>\n",
              "      <td>SEA</td>\n",
              "      <td>DTW</td>\n",
              "      <td>23</td>\n",
              "      <td>0.0</td>\n",
              "    </tr>\n",
              "  </tbody>\n",
              "</table>\n",
              "</div>"
            ],
            "text/plain": [
              "   MONTH  DAY_OF_MONTH  DAY_OF_WEEK ORIGIN DEST  CRS_DEP_TIME  ARR_DEL15\n",
              "0      1             1            5    ATL  SEA            19        0.0\n",
              "1      1             1            5    DTW  MSP            13        0.0\n",
              "2      1             1            5    ATL  SEA             9        0.0\n",
              "3      1             1            5    SEA  MSP             8        0.0\n",
              "4      1             1            5    SEA  DTW            23        0.0"
            ]
          },
          "metadata": {
            "tags": []
          },
          "execution_count": 11
        }
      ]
    },
    {
      "cell_type": "code",
      "metadata": {
        "id": "buZp_PDASqfV",
        "colab_type": "code",
        "colab": {
          "base_uri": "https://localhost:8080/",
          "height": 226
        },
        "outputId": "0b59b4fc-d925-4f95-9a0d-de0c73706f98"
      },
      "source": [
        "# generate indicator column from ORIGIN & DEST column\n",
        "df = pd.get_dummies(df, columns=['ORIGIN', 'DEST'])\n",
        "df.head()"
      ],
      "execution_count": 12,
      "outputs": [
        {
          "output_type": "execute_result",
          "data": {
            "text/html": [
              "<div>\n",
              "<style scoped>\n",
              "    .dataframe tbody tr th:only-of-type {\n",
              "        vertical-align: middle;\n",
              "    }\n",
              "\n",
              "    .dataframe tbody tr th {\n",
              "        vertical-align: top;\n",
              "    }\n",
              "\n",
              "    .dataframe thead th {\n",
              "        text-align: right;\n",
              "    }\n",
              "</style>\n",
              "<table border=\"1\" class=\"dataframe\">\n",
              "  <thead>\n",
              "    <tr style=\"text-align: right;\">\n",
              "      <th></th>\n",
              "      <th>MONTH</th>\n",
              "      <th>DAY_OF_MONTH</th>\n",
              "      <th>DAY_OF_WEEK</th>\n",
              "      <th>CRS_DEP_TIME</th>\n",
              "      <th>ARR_DEL15</th>\n",
              "      <th>ORIGIN_ATL</th>\n",
              "      <th>ORIGIN_DTW</th>\n",
              "      <th>ORIGIN_JFK</th>\n",
              "      <th>ORIGIN_MSP</th>\n",
              "      <th>ORIGIN_SEA</th>\n",
              "      <th>DEST_ATL</th>\n",
              "      <th>DEST_DTW</th>\n",
              "      <th>DEST_JFK</th>\n",
              "      <th>DEST_MSP</th>\n",
              "      <th>DEST_SEA</th>\n",
              "    </tr>\n",
              "  </thead>\n",
              "  <tbody>\n",
              "    <tr>\n",
              "      <th>0</th>\n",
              "      <td>1</td>\n",
              "      <td>1</td>\n",
              "      <td>5</td>\n",
              "      <td>19</td>\n",
              "      <td>0.0</td>\n",
              "      <td>1</td>\n",
              "      <td>0</td>\n",
              "      <td>0</td>\n",
              "      <td>0</td>\n",
              "      <td>0</td>\n",
              "      <td>0</td>\n",
              "      <td>0</td>\n",
              "      <td>0</td>\n",
              "      <td>0</td>\n",
              "      <td>1</td>\n",
              "    </tr>\n",
              "    <tr>\n",
              "      <th>1</th>\n",
              "      <td>1</td>\n",
              "      <td>1</td>\n",
              "      <td>5</td>\n",
              "      <td>13</td>\n",
              "      <td>0.0</td>\n",
              "      <td>0</td>\n",
              "      <td>1</td>\n",
              "      <td>0</td>\n",
              "      <td>0</td>\n",
              "      <td>0</td>\n",
              "      <td>0</td>\n",
              "      <td>0</td>\n",
              "      <td>0</td>\n",
              "      <td>1</td>\n",
              "      <td>0</td>\n",
              "    </tr>\n",
              "    <tr>\n",
              "      <th>2</th>\n",
              "      <td>1</td>\n",
              "      <td>1</td>\n",
              "      <td>5</td>\n",
              "      <td>9</td>\n",
              "      <td>0.0</td>\n",
              "      <td>1</td>\n",
              "      <td>0</td>\n",
              "      <td>0</td>\n",
              "      <td>0</td>\n",
              "      <td>0</td>\n",
              "      <td>0</td>\n",
              "      <td>0</td>\n",
              "      <td>0</td>\n",
              "      <td>0</td>\n",
              "      <td>1</td>\n",
              "    </tr>\n",
              "    <tr>\n",
              "      <th>3</th>\n",
              "      <td>1</td>\n",
              "      <td>1</td>\n",
              "      <td>5</td>\n",
              "      <td>8</td>\n",
              "      <td>0.0</td>\n",
              "      <td>0</td>\n",
              "      <td>0</td>\n",
              "      <td>0</td>\n",
              "      <td>0</td>\n",
              "      <td>1</td>\n",
              "      <td>0</td>\n",
              "      <td>0</td>\n",
              "      <td>0</td>\n",
              "      <td>1</td>\n",
              "      <td>0</td>\n",
              "    </tr>\n",
              "    <tr>\n",
              "      <th>4</th>\n",
              "      <td>1</td>\n",
              "      <td>1</td>\n",
              "      <td>5</td>\n",
              "      <td>23</td>\n",
              "      <td>0.0</td>\n",
              "      <td>0</td>\n",
              "      <td>0</td>\n",
              "      <td>0</td>\n",
              "      <td>0</td>\n",
              "      <td>1</td>\n",
              "      <td>0</td>\n",
              "      <td>1</td>\n",
              "      <td>0</td>\n",
              "      <td>0</td>\n",
              "      <td>0</td>\n",
              "    </tr>\n",
              "  </tbody>\n",
              "</table>\n",
              "</div>"
            ],
            "text/plain": [
              "   MONTH  DAY_OF_MONTH  DAY_OF_WEEK  ...  DEST_JFK  DEST_MSP  DEST_SEA\n",
              "0      1             1            5  ...         0         0         1\n",
              "1      1             1            5  ...         0         1         0\n",
              "2      1             1            5  ...         0         0         1\n",
              "3      1             1            5  ...         0         1         0\n",
              "4      1             1            5  ...         0         0         0\n",
              "\n",
              "[5 rows x 15 columns]"
            ]
          },
          "metadata": {
            "tags": []
          },
          "execution_count": 12
        }
      ]
    },
    {
      "cell_type": "code",
      "metadata": {
        "id": "BeBvG6KPSqfg",
        "colab_type": "code",
        "colab": {}
      },
      "source": [
        "from sklearn.model_selection import train_test_split\n",
        "train_x, test_x, train_y, test_y = train_test_split(df.drop('ARR_DEL15', axis=1), df['ARR_DEL15'], test_size=0.2, random_state=42)"
      ],
      "execution_count": 13,
      "outputs": []
    },
    {
      "cell_type": "code",
      "metadata": {
        "id": "1wPYbUwdSqfq",
        "colab_type": "code",
        "colab": {
          "base_uri": "https://localhost:8080/",
          "height": 34
        },
        "outputId": "3b83578f-5f23-4a14-e10b-2d1c35a9c6f1"
      },
      "source": [
        "train_x.shape"
      ],
      "execution_count": 14,
      "outputs": [
        {
          "output_type": "execute_result",
          "data": {
            "text/plain": [
              "(8984, 14)"
            ]
          },
          "metadata": {
            "tags": []
          },
          "execution_count": 14
        }
      ]
    },
    {
      "cell_type": "code",
      "metadata": {
        "id": "jYv_x71wSqfz",
        "colab_type": "code",
        "colab": {
          "base_uri": "https://localhost:8080/",
          "height": 34
        },
        "outputId": "7ca43d2b-d42f-4abe-d0af-dcacce1c8e81"
      },
      "source": [
        "test_x.shape"
      ],
      "execution_count": 15,
      "outputs": [
        {
          "output_type": "execute_result",
          "data": {
            "text/plain": [
              "(2247, 14)"
            ]
          },
          "metadata": {
            "tags": []
          },
          "execution_count": 15
        }
      ]
    },
    {
      "cell_type": "markdown",
      "metadata": {
        "id": "E3JuOLBDSqgA",
        "colab_type": "text"
      },
      "source": [
        "Training the Model"
      ]
    },
    {
      "cell_type": "code",
      "metadata": {
        "id": "g9M2A9NFSqgC",
        "colab_type": "code",
        "colab": {
          "base_uri": "https://localhost:8080/",
          "height": 156
        },
        "outputId": "0e38f00c-48d9-4bb0-c597-9f143135d18c"
      },
      "source": [
        "from sklearn.ensemble import RandomForestClassifier\n",
        "\n",
        "model = RandomForestClassifier(random_state=13)\n",
        "model.fit(train_x, train_y)"
      ],
      "execution_count": 16,
      "outputs": [
        {
          "output_type": "execute_result",
          "data": {
            "text/plain": [
              "RandomForestClassifier(bootstrap=True, ccp_alpha=0.0, class_weight=None,\n",
              "                       criterion='gini', max_depth=None, max_features='auto',\n",
              "                       max_leaf_nodes=None, max_samples=None,\n",
              "                       min_impurity_decrease=0.0, min_impurity_split=None,\n",
              "                       min_samples_leaf=1, min_samples_split=2,\n",
              "                       min_weight_fraction_leaf=0.0, n_estimators=100,\n",
              "                       n_jobs=None, oob_score=False, random_state=13, verbose=0,\n",
              "                       warm_start=False)"
            ]
          },
          "metadata": {
            "tags": []
          },
          "execution_count": 16
        }
      ]
    },
    {
      "cell_type": "markdown",
      "metadata": {
        "id": "wMWx2a2-SqgL",
        "colab_type": "text"
      },
      "source": [
        "Testing the Model"
      ]
    },
    {
      "cell_type": "code",
      "metadata": {
        "id": "B5KNmNcxSqgO",
        "colab_type": "code",
        "colab": {
          "base_uri": "https://localhost:8080/",
          "height": 34
        },
        "outputId": "f252e222-2c0f-48e1-fcbe-cbc851f9fe6e"
      },
      "source": [
        "predicted = model.predict(test_x)\n",
        "model.score(test_x, test_y)"
      ],
      "execution_count": 17,
      "outputs": [
        {
          "output_type": "execute_result",
          "data": {
            "text/plain": [
              "0.8642634623943035"
            ]
          },
          "metadata": {
            "tags": []
          },
          "execution_count": 17
        }
      ]
    },
    {
      "cell_type": "markdown",
      "metadata": {
        "id": "Mj76eur2SqgW",
        "colab_type": "text"
      },
      "source": [
        "Generating AUC score"
      ]
    },
    {
      "cell_type": "code",
      "metadata": {
        "id": "Ih3MRs3MSqgX",
        "colab_type": "code",
        "colab": {}
      },
      "source": [
        "'''There are several ways to measure the accuracy of a classification model.\n",
        "   One of the best overall measures for a binary classification model is\n",
        "   Area Under Receiver Operating Characteristic Curve (ROC AUC), \n",
        "   which essentially quantifies\n",
        "   how often the model will make a correct prediction regardless of the outcome\n",
        "'''\n",
        "# First we will generate a set prediction probabilities\n",
        "from sklearn.metrics import roc_auc_score\n",
        "probabilities = model.predict_proba(test_x)"
      ],
      "execution_count": 18,
      "outputs": []
    },
    {
      "cell_type": "code",
      "metadata": {
        "id": "s6SJa8sjSqgf",
        "colab_type": "code",
        "colab": {
          "base_uri": "https://localhost:8080/",
          "height": 34
        },
        "outputId": "aa5c9060-2529-493a-fd6c-767e1b3eb585"
      },
      "source": [
        "# Calculate ROC AUC score using scikit-learn's method roc_auc_score\n",
        "roc_auc_score(test_y, probabilities[:, 1])"
      ],
      "execution_count": 19,
      "outputs": [
        {
          "output_type": "execute_result",
          "data": {
            "text/plain": [
              "0.7014819895830565"
            ]
          },
          "metadata": {
            "tags": []
          },
          "execution_count": 19
        }
      ]
    },
    {
      "cell_type": "code",
      "metadata": {
        "id": "2hSXeU8kSqgo",
        "colab_type": "code",
        "colab": {
          "base_uri": "https://localhost:8080/",
          "height": 52
        },
        "outputId": "adc8de6b-7b74-45f3-f664-517234d2bbf1"
      },
      "source": [
        "'''\n",
        "You can learn more about the model's behavior\n",
        "by generating a confusion matrix or an error matrix.\n",
        "The confusion matrix quantifies the number of times each answer was classified correctly or incorrectly.\n",
        "Specifically, it quantifies the number of false positives, false negatives, true positives, and true negatives\n",
        "'''\n",
        "from sklearn.metrics import confusion_matrix\n",
        "confusion_matrix(test_y, predicted)"
      ],
      "execution_count": 20,
      "outputs": [
        {
          "output_type": "execute_result",
          "data": {
            "text/plain": [
              "array([[1903,   33],\n",
              "       [ 272,   39]])"
            ]
          },
          "metadata": {
            "tags": []
          },
          "execution_count": 20
        }
      ]
    },
    {
      "cell_type": "markdown",
      "metadata": {
        "id": "xiFXSyUeSqgy",
        "colab_type": "text"
      },
      "source": [
        "Measuring precision"
      ]
    },
    {
      "cell_type": "code",
      "metadata": {
        "id": "eF88s7j8Sqgz",
        "colab_type": "code",
        "colab": {
          "base_uri": "https://localhost:8080/",
          "height": 34
        },
        "outputId": "83375172-ad4a-4a65-9661-69895368f4c4"
      },
      "source": [
        "# there is other measure of accuracy for a clissification model\n",
        "# i.e., precision and recall\n",
        "from sklearn.metrics import precision_score\n",
        "\n",
        "train_predictions = model.predict(train_x)\n",
        "precision_score(train_y, train_predictions)"
      ],
      "execution_count": 21,
      "outputs": [
        {
          "output_type": "execute_result",
          "data": {
            "text/plain": [
              "1.0"
            ]
          },
          "metadata": {
            "tags": []
          },
          "execution_count": 21
        }
      ]
    },
    {
      "cell_type": "markdown",
      "metadata": {
        "id": "N2V4Q3tcSqg-",
        "colab_type": "text"
      },
      "source": [
        "Measuring recall"
      ]
    },
    {
      "cell_type": "code",
      "metadata": {
        "id": "G3akqUDASqhA",
        "colab_type": "code",
        "colab": {
          "base_uri": "https://localhost:8080/",
          "height": 34
        },
        "outputId": "6a73789f-f109-493a-aea0-da3b4ce32a46"
      },
      "source": [
        "from sklearn.metrics import recall_score\n",
        "recall_score(train_y, train_predictions)"
      ],
      "execution_count": 22,
      "outputs": [
        {
          "output_type": "execute_result",
          "data": {
            "text/plain": [
              "0.9992012779552716"
            ]
          },
          "metadata": {
            "tags": []
          },
          "execution_count": 22
        }
      ]
    },
    {
      "cell_type": "code",
      "metadata": {
        "id": "EHEuUNgXSqhI",
        "colab_type": "code",
        "colab": {
          "base_uri": "https://localhost:8080/",
          "height": 72
        },
        "outputId": "95f8068e-59a2-407b-ac94-9c81e0602831"
      },
      "source": [
        "%matplotlib inline\n",
        "import matplotlib.pyplot as plt\n",
        "import seaborn as sns\n",
        "\n",
        "sns.set()"
      ],
      "execution_count": 23,
      "outputs": [
        {
          "output_type": "stream",
          "text": [
            "/usr/local/lib/python3.6/dist-packages/statsmodels/tools/_testing.py:19: FutureWarning: pandas.util.testing is deprecated. Use the functions in the public API at pandas.testing instead.\n",
            "  import pandas.util.testing as tm\n"
          ],
          "name": "stderr"
        }
      ]
    },
    {
      "cell_type": "markdown",
      "metadata": {
        "id": "2ZcNImJbSqhQ",
        "colab_type": "text"
      },
      "source": [
        "Plot the ROC curve using matplotlib"
      ]
    },
    {
      "cell_type": "code",
      "metadata": {
        "id": "pIYD_0_nSqhS",
        "colab_type": "code",
        "colab": {
          "base_uri": "https://localhost:8080/",
          "height": 302
        },
        "outputId": "58dc25fc-6faf-455c-8b25-b0b25cfb585c"
      },
      "source": [
        "from sklearn.metrics import roc_curve\n",
        "\n",
        "fpr, tpr, _ = roc_curve(test_y, probabilities[:, 1])\n",
        "plt.plot(fpr, tpr)\n",
        "plt.plot([0, 1], [0, 1], color='grey', lw=1, linestyle='--')\n",
        "plt.xlabel('False Positive Rate')\n",
        "plt.ylabel('True Positive Rate')"
      ],
      "execution_count": 24,
      "outputs": [
        {
          "output_type": "execute_result",
          "data": {
            "text/plain": [
              "Text(0, 0.5, 'True Positive Rate')"
            ]
          },
          "metadata": {
            "tags": []
          },
          "execution_count": 24
        },
        {
          "output_type": "display_data",
          "data": {
            "image/png": "[encoded data removed]",
            "text/plain": [
              "<Figure size 432x288 with 1 Axes>"
            ]
          },
          "metadata": {
            "tags": []
          }
        }
      ]
    },
    {
      "cell_type": "markdown",
      "metadata": {
        "id": "m5fPTt4HSqha",
        "colab_type": "text"
      },
      "source": [
        "Create a function using the model created earlier\n",
        "to determine whether the flight will be on-time or not"
      ]
    },
    {
      "cell_type": "code",
      "metadata": {
        "id": "Qrmwi89FSqhe",
        "colab_type": "code",
        "colab": {}
      },
      "source": [
        "def predict_delay(departure_date_time, origin, destination):\n",
        "    from datetime import datetime\n",
        "\n",
        "    try:\n",
        "        departure_date_time_parsed = datetime.strptime(departure_date_time, '%d/%m/%Y %H:%M:%S')\n",
        "    except ValueError as e:\n",
        "        return 'Error parsing date/time - {}'.format(e)\n",
        "\n",
        "    month = departure_date_time_parsed.month\n",
        "    day = departure_date_time_parsed.day\n",
        "    day_of_week = departure_date_time_parsed.isoweekday()\n",
        "    hour = departure_date_time_parsed.hour\n",
        "\n",
        "    origin = origin.upper()\n",
        "    destination = destination.upper()\n",
        "\n",
        "    input = [{'MONTH': month,\n",
        "              'DAY': day,\n",
        "              'DAY_OF_WEEK': day_of_week,\n",
        "              'CRS_DEP_TIME': hour,\n",
        "              'ORIGIN_ATL': 1 if origin == 'ATL' else 0,\n",
        "              'ORIGIN_DTW': 1 if origin == 'DTW' else 0,\n",
        "              'ORIGIN_JFK': 1 if origin == 'JFK' else 0,\n",
        "              'ORIGIN_MSP': 1 if origin == 'MSP' else 0,\n",
        "              'ORIGIN_SEA': 1 if origin == 'SEA' else 0,\n",
        "              'DEST_ATL': 1 if destination == 'ATL' else 0,\n",
        "              'DEST_DTW': 1 if destination == 'DTW' else 0,\n",
        "              'DEST_JFK': 1 if destination == 'JFK' else 0,\n",
        "              'DEST_MSP': 1 if destination == 'MSP' else 0,\n",
        "              'DEST_SEA': 1 if destination == 'SEA' else 0 }]\n",
        "\n",
        "    return model.predict_proba(pd.DataFrame(input))[0][0]"
      ],
      "execution_count": 25,
      "outputs": []
    },
    {
      "cell_type": "markdown",
      "metadata": {
        "id": "P5--5MYwSqhx",
        "colab_type": "text"
      },
      "source": [
        "Predicting whether a flight will be on-time\n",
        "    # e.g.\n",
        "    compute the probability that a flight from New York to Atlanta on the evening of October 1 will arrive on time"
      ]
    },
    {
      "cell_type": "code",
      "metadata": {
        "id": "p4q90vvJSqh2",
        "colab_type": "code",
        "colab": {
          "base_uri": "https://localhost:8080/",
          "height": 34
        },
        "outputId": "bc05d0ac-22cc-4bed-e0d5-fd68aa668b70"
      },
      "source": [
        "predict_delay('1/10/2018 21:45:00', 'JFK', 'ATL')"
      ],
      "execution_count": 26,
      "outputs": [
        {
          "output_type": "execute_result",
          "data": {
            "text/plain": [
              "0.88"
            ]
          },
          "metadata": {
            "tags": []
          },
          "execution_count": 26
        }
      ]
    },
    {
      "cell_type": "markdown",
      "metadata": {
        "id": "8adhw8-zSqiA",
        "colab_type": "text"
      },
      "source": [
        "flight the same day from Atlanta to Seattle will arrive on time"
      ]
    },
    {
      "cell_type": "code",
      "metadata": {
        "id": "lpaCie_ZSqiC",
        "colab_type": "code",
        "colab": {
          "base_uri": "https://localhost:8080/",
          "height": 34
        },
        "outputId": "3ee29a86-e057-4fcc-9acf-09b9f8b77ba3"
      },
      "source": [
        "predict_delay('2/10/2018 10:00:00', 'ATL', 'SEA')"
      ],
      "execution_count": 27,
      "outputs": [
        {
          "output_type": "execute_result",
          "data": {
            "text/plain": [
              "0.99"
            ]
          },
          "metadata": {
            "tags": []
          },
          "execution_count": 27
        }
      ]
    },
    {
      "cell_type": "markdown",
      "metadata": {
        "id": "NuOXwvjmSqiH",
        "colab_type": "text"
      },
      "source": [
        "Probability of on-time arrivals for a range of dates"
      ]
    },
    {
      "cell_type": "code",
      "metadata": {
        "id": "Noj8dkxdSqiI",
        "colab_type": "code",
        "colab": {
          "base_uri": "https://localhost:8080/",
          "height": 289
        },
        "outputId": "ac4663e4-e218-4e2a-bc25-dda1ac26bde4"
      },
      "source": [
        "import numpy as np\n",
        "\n",
        "labels = ('Oct 1', 'Oct 2', 'Oct 3', 'Oct 4', 'Oct 5', 'Oct 6', 'Oct 7')\n",
        "values = (predict_delay('1/10/2018 21:45:00', 'JFK', 'ATL'),\n",
        "          predict_delay('2/10/2018 21:45:00', 'JFK', 'ATL'),\n",
        "          predict_delay('3/10/2018 21:45:00', 'JFK', 'ATL'),\n",
        "          predict_delay('4/10/2018 21:45:00', 'JFK', 'ATL'),\n",
        "          predict_delay('5/10/2018 21:45:00', 'JFK', 'ATL'),\n",
        "          predict_delay('6/10/2018 21:45:00', 'JFK', 'ATL'),\n",
        "          predict_delay('7/10/2018 21:45:00', 'JFK', 'ATL'))\n",
        "alabels = np.arange(len(labels))\n",
        "\n",
        "plt.bar(alabels, values, align='center', alpha=0.5)\n",
        "plt.xticks(alabels, labels)\n",
        "plt.ylabel('Probability of On-Time Arrival')\n",
        "plt.ylim((0.0, 1.0))"
      ],
      "execution_count": 28,
      "outputs": [
        {
          "output_type": "execute_result",
          "data": {
            "text/plain": [
              "(0.0, 1.0)"
            ]
          },
          "metadata": {
            "tags": []
          },
          "execution_count": 28
        },
        {
          "output_type": "display_data",
          "data": {
            "image/png": "[encoded data removed]",
            "text/plain": [
              "<Figure size 432x288 with 1 Axes>"
            ]
          },
          "metadata": {
            "tags": []
          }
        }
      ]
    },
    {
      "cell_type": "code",
      "metadata": {
        "id": "CuKuDGXcSqiP",
        "colab_type": "code",
        "colab": {
          "base_uri": "https://localhost:8080/",
          "height": 289
        },
        "outputId": "8e2965fb-d68f-41ec-e757-406ff1a217fd"
      },
      "source": [
        "import numpy as np\n",
        "\n",
        "labels = ('Oct 1', 'Oct 2', 'Oct 3', 'Oct 4', 'Oct 5', 'Oct 6', 'Oct 7')\n",
        "values = (predict_delay('10/4/2018 13:00:00', 'JFK', 'MSP'),\n",
        "          predict_delay('11/4/2018 13:00:00', 'JFK', 'MSP'),\n",
        "          predict_delay('12/4/2018 13:00:00', 'JFK', 'MSP'),\n",
        "          predict_delay('13/4/2018 13:00:00', 'JFK', 'MSP'),\n",
        "          predict_delay('14/4/2018 13:00:00', 'JFK', 'MSP'),\n",
        "          predict_delay('15/4/2018 13:00:00', 'JFK', 'MSP'),\n",
        "          predict_delay('16/4/2018 13:00:00', 'JFK', 'MSP'))\n",
        "alabels = np.arange(len(labels))\n",
        "\n",
        "plt.bar(alabels, values, align='center', alpha=0.5)\n",
        "plt.xticks(alabels, labels)\n",
        "plt.ylabel('Probability of On-Time Arrival')\n",
        "plt.ylim((0.0, 1.0))"
      ],
      "execution_count": 29,
      "outputs": [
        {
          "output_type": "execute_result",
          "data": {
            "text/plain": [
              "(0.0, 1.0)"
            ]
          },
          "metadata": {
            "tags": []
          },
          "execution_count": 29
        },
        {
          "output_type": "display_data",
          "data": {
            "image/png": "[encoded data removed]",
            "text/plain": [
              "<Figure size 432x288 with 1 Axes>"
            ]
          },
          "metadata": {
            "tags": []
          }
        }
      ]
    },
    {
      "cell_type": "code",
      "metadata": {
        "id": "vkP95UheSqiX",
        "colab_type": "code",
        "colab": {
          "base_uri": "https://localhost:8080/",
          "height": 289
        },
        "outputId": "b0f4b779-3ecd-4161-f1a9-f9f77ead66e0"
      },
      "source": [
        "import numpy as np\n",
        "\n",
        "labels = ('9:00 a.m.', 'noon', '3:00 p.m.', '6:00 p.m.', '9:00 p.m.')\n",
        "values = (predict_delay('30/1/2018 9:00:00', 'SEA', 'ATL'),\n",
        "          predict_delay('30/1/2018 12:00:00', 'SEA', 'ATL'),\n",
        "          predict_delay('30/1/2018 15:00:00', 'SEA', 'ATL'),\n",
        "          predict_delay('30/1/2018 18:00:00', 'SEA', 'ATL'),\n",
        "          predict_delay('30/1/2018 21:00:00', 'SEA', 'ATL'))\n",
        "alabels = np.arange(len(labels))\n",
        "\n",
        "plt.bar(alabels, values, align='center', alpha=0.5)\n",
        "plt.xticks(alabels, labels)\n",
        "plt.ylabel('Probability of On-Time Arrival')\n",
        "plt.ylim((0.0, 1.0))"
      ],
      "execution_count": 30,
      "outputs": [
        {
          "output_type": "execute_result",
          "data": {
            "text/plain": [
              "(0.0, 1.0)"
            ]
          },
          "metadata": {
            "tags": []
          },
          "execution_count": 30
        },
        {
          "output_type": "display_data",
          "data": {
            "image/png": "[encoded data removed]",
            "text/plain": [
              "<Figure size 432x288 with 1 Axes>"
            ]
          },
          "metadata": {
            "tags": []
          }
        }
      ]
    },
    {
      "cell_type": "code",
      "metadata": {
        "id": "8YO1498ASqid",
        "colab_type": "code",
        "colab": {}
      },
      "source": [
        ""
      ],
      "execution_count": 30,
      "outputs": []
    }
  ]
}