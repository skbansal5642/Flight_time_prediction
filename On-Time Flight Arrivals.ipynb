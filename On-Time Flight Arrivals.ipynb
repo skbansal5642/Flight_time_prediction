{
 "cells": [
  {
   "cell_type": "markdown",
   "metadata": {},
   "source": [
    "    Import data into a notebook using curl\n",
    "    Use Pandas to clean and prepare data\n",
    "    Use scikit-learn to build a machine-learning model\n",
    "    Use Matplotlib to visualize the results"
   ]
  },
  {
   "cell_type": "markdown",
   "metadata": {},
   "source": [
    "### download the csv file from given url (work in bash shell)"
   ]
  },
  {
   "cell_type": "code",
   "execution_count": 1,
   "metadata": {},
   "outputs": [
    {
     "name": "stderr",
     "output_type": "stream",
     "text": [
      "  % Total    % Received % Xferd  Average Speed   Time    Time     Time  Current\n",
      "                                 Dload  Upload   Total   Spent    Left  Speed\n",
      "\n",
      "  0     0    0     0    0     0      0      0 --:--:-- --:--:-- --:--:--     0\n",
      "  0     0    0     0    0     0      0      0 --:--:-- --:--:-- --:--:--     0\n",
      "  0     0    0     0    0     0      0      0 --:--:--  0:00:01 --:--:--     0\n",
      "  0     0    0     0    0     0      0      0 --:--:--  0:00:02 --:--:--     0\n",
      "  3 1552k    3 48746    0     0  14852      0  0:01:47  0:00:03  0:01:44 14852\n",
      " 18 1552k   18  287k    0     0  68777      0  0:00:23  0:00:04  0:00:19 68777\n",
      " 50 1552k   50  783k    0     0   148k      0  0:00:10  0:00:05  0:00:05  157k\n",
      " 93 1552k   93 1455k    0     0   231k      0  0:00:06  0:00:06 --:--:--  291k\n",
      "100 1552k  100 1552k    0     0   242k      0  0:00:06  0:00:06 --:--:--  402k\n"
     ]
    }
   ],
   "source": [
    "!curl https://topcs.blob.core.windows.net/public/FlightData.csv -o flightdata.csv"
   ]
  },
  {
   "cell_type": "markdown",
   "metadata": {},
   "source": [
    "### load data and create a DataFrame & display 5 rows"
   ]
  },
  {
   "cell_type": "code",
   "execution_count": 2,
   "metadata": {},
   "outputs": [
    {
     "data": {
      "text/html": [
       "<div>\n",
       "<style scoped>\n",
       "    .dataframe tbody tr th:only-of-type {\n",
       "        vertical-align: middle;\n",
       "    }\n",
       "\n",
       "    .dataframe tbody tr th {\n",
       "        vertical-align: top;\n",
       "    }\n",
       "\n",
       "    .dataframe thead th {\n",
       "        text-align: right;\n",
       "    }\n",
       "</style>\n",
       "<table border=\"1\" class=\"dataframe\">\n",
       "  <thead>\n",
       "    <tr style=\"text-align: right;\">\n",
       "      <th></th>\n",
       "      <th>YEAR</th>\n",
       "      <th>QUARTER</th>\n",
       "      <th>MONTH</th>\n",
       "      <th>DAY_OF_MONTH</th>\n",
       "      <th>DAY_OF_WEEK</th>\n",
       "      <th>UNIQUE_CARRIER</th>\n",
       "      <th>TAIL_NUM</th>\n",
       "      <th>FL_NUM</th>\n",
       "      <th>ORIGIN_AIRPORT_ID</th>\n",
       "      <th>ORIGIN</th>\n",
       "      <th>...</th>\n",
       "      <th>CRS_ARR_TIME</th>\n",
       "      <th>ARR_TIME</th>\n",
       "      <th>ARR_DELAY</th>\n",
       "      <th>ARR_DEL15</th>\n",
       "      <th>CANCELLED</th>\n",
       "      <th>DIVERTED</th>\n",
       "      <th>CRS_ELAPSED_TIME</th>\n",
       "      <th>ACTUAL_ELAPSED_TIME</th>\n",
       "      <th>DISTANCE</th>\n",
       "      <th>Unnamed: 25</th>\n",
       "    </tr>\n",
       "  </thead>\n",
       "  <tbody>\n",
       "    <tr>\n",
       "      <th>0</th>\n",
       "      <td>2016</td>\n",
       "      <td>1</td>\n",
       "      <td>1</td>\n",
       "      <td>1</td>\n",
       "      <td>5</td>\n",
       "      <td>DL</td>\n",
       "      <td>N836DN</td>\n",
       "      <td>1399</td>\n",
       "      <td>10397</td>\n",
       "      <td>ATL</td>\n",
       "      <td>...</td>\n",
       "      <td>2143</td>\n",
       "      <td>2102.0</td>\n",
       "      <td>-41.0</td>\n",
       "      <td>0.0</td>\n",
       "      <td>0.0</td>\n",
       "      <td>0.0</td>\n",
       "      <td>338.0</td>\n",
       "      <td>295.0</td>\n",
       "      <td>2182.0</td>\n",
       "      <td>NaN</td>\n",
       "    </tr>\n",
       "    <tr>\n",
       "      <th>1</th>\n",
       "      <td>2016</td>\n",
       "      <td>1</td>\n",
       "      <td>1</td>\n",
       "      <td>1</td>\n",
       "      <td>5</td>\n",
       "      <td>DL</td>\n",
       "      <td>N964DN</td>\n",
       "      <td>1476</td>\n",
       "      <td>11433</td>\n",
       "      <td>DTW</td>\n",
       "      <td>...</td>\n",
       "      <td>1435</td>\n",
       "      <td>1439.0</td>\n",
       "      <td>4.0</td>\n",
       "      <td>0.0</td>\n",
       "      <td>0.0</td>\n",
       "      <td>0.0</td>\n",
       "      <td>110.0</td>\n",
       "      <td>115.0</td>\n",
       "      <td>528.0</td>\n",
       "      <td>NaN</td>\n",
       "    </tr>\n",
       "    <tr>\n",
       "      <th>2</th>\n",
       "      <td>2016</td>\n",
       "      <td>1</td>\n",
       "      <td>1</td>\n",
       "      <td>1</td>\n",
       "      <td>5</td>\n",
       "      <td>DL</td>\n",
       "      <td>N813DN</td>\n",
       "      <td>1597</td>\n",
       "      <td>10397</td>\n",
       "      <td>ATL</td>\n",
       "      <td>...</td>\n",
       "      <td>1215</td>\n",
       "      <td>1142.0</td>\n",
       "      <td>-33.0</td>\n",
       "      <td>0.0</td>\n",
       "      <td>0.0</td>\n",
       "      <td>0.0</td>\n",
       "      <td>335.0</td>\n",
       "      <td>300.0</td>\n",
       "      <td>2182.0</td>\n",
       "      <td>NaN</td>\n",
       "    </tr>\n",
       "    <tr>\n",
       "      <th>3</th>\n",
       "      <td>2016</td>\n",
       "      <td>1</td>\n",
       "      <td>1</td>\n",
       "      <td>1</td>\n",
       "      <td>5</td>\n",
       "      <td>DL</td>\n",
       "      <td>N587NW</td>\n",
       "      <td>1768</td>\n",
       "      <td>14747</td>\n",
       "      <td>SEA</td>\n",
       "      <td>...</td>\n",
       "      <td>1335</td>\n",
       "      <td>1345.0</td>\n",
       "      <td>10.0</td>\n",
       "      <td>0.0</td>\n",
       "      <td>0.0</td>\n",
       "      <td>0.0</td>\n",
       "      <td>196.0</td>\n",
       "      <td>205.0</td>\n",
       "      <td>1399.0</td>\n",
       "      <td>NaN</td>\n",
       "    </tr>\n",
       "    <tr>\n",
       "      <th>4</th>\n",
       "      <td>2016</td>\n",
       "      <td>1</td>\n",
       "      <td>1</td>\n",
       "      <td>1</td>\n",
       "      <td>5</td>\n",
       "      <td>DL</td>\n",
       "      <td>N836DN</td>\n",
       "      <td>1823</td>\n",
       "      <td>14747</td>\n",
       "      <td>SEA</td>\n",
       "      <td>...</td>\n",
       "      <td>607</td>\n",
       "      <td>615.0</td>\n",
       "      <td>8.0</td>\n",
       "      <td>0.0</td>\n",
       "      <td>0.0</td>\n",
       "      <td>0.0</td>\n",
       "      <td>247.0</td>\n",
       "      <td>259.0</td>\n",
       "      <td>1927.0</td>\n",
       "      <td>NaN</td>\n",
       "    </tr>\n",
       "  </tbody>\n",
       "</table>\n",
       "<p>5 rows × 26 columns</p>\n",
       "</div>"
      ],
      "text/plain": [
       "   YEAR  QUARTER  MONTH  DAY_OF_MONTH  DAY_OF_WEEK UNIQUE_CARRIER TAIL_NUM  \\\n",
       "0  2016        1      1             1            5             DL   N836DN   \n",
       "1  2016        1      1             1            5             DL   N964DN   \n",
       "2  2016        1      1             1            5             DL   N813DN   \n",
       "3  2016        1      1             1            5             DL   N587NW   \n",
       "4  2016        1      1             1            5             DL   N836DN   \n",
       "\n",
       "   FL_NUM  ORIGIN_AIRPORT_ID ORIGIN     ...       CRS_ARR_TIME ARR_TIME  \\\n",
       "0    1399              10397    ATL     ...               2143   2102.0   \n",
       "1    1476              11433    DTW     ...               1435   1439.0   \n",
       "2    1597              10397    ATL     ...               1215   1142.0   \n",
       "3    1768              14747    SEA     ...               1335   1345.0   \n",
       "4    1823              14747    SEA     ...                607    615.0   \n",
       "\n",
       "   ARR_DELAY  ARR_DEL15  CANCELLED  DIVERTED  CRS_ELAPSED_TIME  \\\n",
       "0      -41.0        0.0        0.0       0.0             338.0   \n",
       "1        4.0        0.0        0.0       0.0             110.0   \n",
       "2      -33.0        0.0        0.0       0.0             335.0   \n",
       "3       10.0        0.0        0.0       0.0             196.0   \n",
       "4        8.0        0.0        0.0       0.0             247.0   \n",
       "\n",
       "   ACTUAL_ELAPSED_TIME  DISTANCE  Unnamed: 25  \n",
       "0                295.0    2182.0          NaN  \n",
       "1                115.0     528.0          NaN  \n",
       "2                300.0    2182.0          NaN  \n",
       "3                205.0    1399.0          NaN  \n",
       "4                259.0    1927.0          NaN  \n",
       "\n",
       "[5 rows x 26 columns]"
      ]
     },
     "execution_count": 2,
     "metadata": {},
     "output_type": "execute_result"
    }
   ],
   "source": [
    "import pandas as pd\n",
    "\n",
    "df = pd.read_csv('flightdata.csv')\n",
    "df.head()"
   ]
  },
  {
   "cell_type": "code",
   "execution_count": 3,
   "metadata": {},
   "outputs": [
    {
     "data": {
      "text/plain": [
       "(11231, 26)"
      ]
     },
     "execution_count": 3,
     "metadata": {},
     "output_type": "execute_result"
    }
   ],
   "source": [
    "# shows total no. of rows and columns\n",
    "df.shape"
   ]
  },
  {
   "cell_type": "code",
   "execution_count": 4,
   "metadata": {},
   "outputs": [
    {
     "data": {
      "text/plain": [
       "True"
      ]
     },
     "execution_count": 4,
     "metadata": {},
     "output_type": "execute_result"
    }
   ],
   "source": [
    "# check whether any value is missing in dataset\n",
    "df.isnull().values.any()"
   ]
  },
  {
   "cell_type": "code",
   "execution_count": 5,
   "metadata": {},
   "outputs": [
    {
     "data": {
      "text/plain": [
       "YEAR                       0\n",
       "QUARTER                    0\n",
       "MONTH                      0\n",
       "DAY_OF_MONTH               0\n",
       "DAY_OF_WEEK                0\n",
       "UNIQUE_CARRIER             0\n",
       "TAIL_NUM                   0\n",
       "FL_NUM                     0\n",
       "ORIGIN_AIRPORT_ID          0\n",
       "ORIGIN                     0\n",
       "DEST_AIRPORT_ID            0\n",
       "DEST                       0\n",
       "CRS_DEP_TIME               0\n",
       "DEP_TIME                 107\n",
       "DEP_DELAY                107\n",
       "DEP_DEL15                107\n",
       "CRS_ARR_TIME               0\n",
       "ARR_TIME                 115\n",
       "ARR_DELAY                188\n",
       "ARR_DEL15                188\n",
       "CANCELLED                  0\n",
       "DIVERTED                   0\n",
       "CRS_ELAPSED_TIME           0\n",
       "ACTUAL_ELAPSED_TIME      188\n",
       "DISTANCE                   0\n",
       "Unnamed: 25            11231\n",
       "dtype: int64"
      ]
     },
     "execution_count": 5,
     "metadata": {},
     "output_type": "execute_result"
    }
   ],
   "source": [
    "# find out where the missing values are\n",
    "df.isnull().sum()\n",
    "# shows no. of missing values in each column"
   ]
  },
  {
   "cell_type": "code",
   "execution_count": 6,
   "metadata": {},
   "outputs": [
    {
     "data": {
      "text/plain": [
       "YEAR                     0\n",
       "QUARTER                  0\n",
       "MONTH                    0\n",
       "DAY_OF_MONTH             0\n",
       "DAY_OF_WEEK              0\n",
       "UNIQUE_CARRIER           0\n",
       "TAIL_NUM                 0\n",
       "FL_NUM                   0\n",
       "ORIGIN_AIRPORT_ID        0\n",
       "ORIGIN                   0\n",
       "DEST_AIRPORT_ID          0\n",
       "DEST                     0\n",
       "CRS_DEP_TIME             0\n",
       "DEP_TIME               107\n",
       "DEP_DELAY              107\n",
       "DEP_DEL15              107\n",
       "CRS_ARR_TIME             0\n",
       "ARR_TIME               115\n",
       "ARR_DELAY              188\n",
       "ARR_DEL15              188\n",
       "CANCELLED                0\n",
       "DIVERTED                 0\n",
       "CRS_ELAPSED_TIME         0\n",
       "ACTUAL_ELAPSED_TIME    188\n",
       "DISTANCE                 0\n",
       "dtype: int64"
      ]
     },
     "execution_count": 6,
     "metadata": {},
     "output_type": "execute_result"
    }
   ],
   "source": [
    "# as we see column (Unnamed: 25) has all rows NULL\n",
    "# It was created as dataset is in comma form\n",
    "# now, eleminate that column\n",
    "df = df.drop('Unnamed: 25', axis=1)\n",
    "df.isnull().sum()"
   ]
  },
  {
   "cell_type": "code",
   "execution_count": 7,
   "metadata": {},
   "outputs": [
    {
     "data": {
      "text/plain": [
       "MONTH             0\n",
       "DAY_OF_MONTH      0\n",
       "DAY_OF_WEEK       0\n",
       "ORIGIN            0\n",
       "DEST              0\n",
       "CRS_DEP_TIME      0\n",
       "ARR_DEL15       188\n",
       "dtype: int64"
      ]
     },
     "execution_count": 7,
     "metadata": {},
     "output_type": "execute_result"
    }
   ],
   "source": [
    "# now we have to filter out the columns that we don't need\n",
    "# we will select the columns on which our prediction is highly dependent\n",
    "df = df[[\"MONTH\", \"DAY_OF_MONTH\", \"DAY_OF_WEEK\", \"ORIGIN\", \"DEST\", \"CRS_DEP_TIME\", \"ARR_DEL15\"]]\n",
    "df.isnull().sum()"
   ]
  },
  {
   "cell_type": "code",
   "execution_count": 8,
   "metadata": {},
   "outputs": [
    {
     "data": {
      "text/html": [
       "<div>\n",
       "<style scoped>\n",
       "    .dataframe tbody tr th:only-of-type {\n",
       "        vertical-align: middle;\n",
       "    }\n",
       "\n",
       "    .dataframe tbody tr th {\n",
       "        vertical-align: top;\n",
       "    }\n",
       "\n",
       "    .dataframe thead th {\n",
       "        text-align: right;\n",
       "    }\n",
       "</style>\n",
       "<table border=\"1\" class=\"dataframe\">\n",
       "  <thead>\n",
       "    <tr style=\"text-align: right;\">\n",
       "      <th></th>\n",
       "      <th>MONTH</th>\n",
       "      <th>DAY_OF_MONTH</th>\n",
       "      <th>DAY_OF_WEEK</th>\n",
       "      <th>ORIGIN</th>\n",
       "      <th>DEST</th>\n",
       "      <th>CRS_DEP_TIME</th>\n",
       "      <th>ARR_DEL15</th>\n",
       "    </tr>\n",
       "  </thead>\n",
       "  <tbody>\n",
       "    <tr>\n",
       "      <th>177</th>\n",
       "      <td>1</td>\n",
       "      <td>9</td>\n",
       "      <td>6</td>\n",
       "      <td>MSP</td>\n",
       "      <td>SEA</td>\n",
       "      <td>701</td>\n",
       "      <td>NaN</td>\n",
       "    </tr>\n",
       "    <tr>\n",
       "      <th>179</th>\n",
       "      <td>1</td>\n",
       "      <td>10</td>\n",
       "      <td>7</td>\n",
       "      <td>MSP</td>\n",
       "      <td>DTW</td>\n",
       "      <td>1348</td>\n",
       "      <td>NaN</td>\n",
       "    </tr>\n",
       "    <tr>\n",
       "      <th>184</th>\n",
       "      <td>1</td>\n",
       "      <td>10</td>\n",
       "      <td>7</td>\n",
       "      <td>MSP</td>\n",
       "      <td>DTW</td>\n",
       "      <td>625</td>\n",
       "      <td>NaN</td>\n",
       "    </tr>\n",
       "    <tr>\n",
       "      <th>210</th>\n",
       "      <td>1</td>\n",
       "      <td>10</td>\n",
       "      <td>7</td>\n",
       "      <td>DTW</td>\n",
       "      <td>MSP</td>\n",
       "      <td>1200</td>\n",
       "      <td>NaN</td>\n",
       "    </tr>\n",
       "    <tr>\n",
       "      <th>478</th>\n",
       "      <td>1</td>\n",
       "      <td>22</td>\n",
       "      <td>5</td>\n",
       "      <td>SEA</td>\n",
       "      <td>JFK</td>\n",
       "      <td>2305</td>\n",
       "      <td>NaN</td>\n",
       "    </tr>\n",
       "  </tbody>\n",
       "</table>\n",
       "</div>"
      ],
      "text/plain": [
       "     MONTH  DAY_OF_MONTH  DAY_OF_WEEK ORIGIN DEST  CRS_DEP_TIME  ARR_DEL15\n",
       "177      1             9            6    MSP  SEA           701        NaN\n",
       "179      1            10            7    MSP  DTW          1348        NaN\n",
       "184      1            10            7    MSP  DTW           625        NaN\n",
       "210      1            10            7    DTW  MSP          1200        NaN\n",
       "478      1            22            5    SEA  JFK          2305        NaN"
      ]
     },
     "execution_count": 8,
     "metadata": {},
     "output_type": "execute_result"
    }
   ],
   "source": [
    "# show the first 5 missing values in ARR_DEL15 Column\n",
    "df[df.isnull().values.any(axis=1)].head()"
   ]
  },
  {
   "cell_type": "code",
   "execution_count": 9,
   "metadata": {},
   "outputs": [
    {
     "data": {
      "text/html": [
       "<div>\n",
       "<style scoped>\n",
       "    .dataframe tbody tr th:only-of-type {\n",
       "        vertical-align: middle;\n",
       "    }\n",
       "\n",
       "    .dataframe tbody tr th {\n",
       "        vertical-align: top;\n",
       "    }\n",
       "\n",
       "    .dataframe thead th {\n",
       "        text-align: right;\n",
       "    }\n",
       "</style>\n",
       "<table border=\"1\" class=\"dataframe\">\n",
       "  <thead>\n",
       "    <tr style=\"text-align: right;\">\n",
       "      <th></th>\n",
       "      <th>MONTH</th>\n",
       "      <th>DAY_OF_MONTH</th>\n",
       "      <th>DAY_OF_WEEK</th>\n",
       "      <th>ORIGIN</th>\n",
       "      <th>DEST</th>\n",
       "      <th>CRS_DEP_TIME</th>\n",
       "      <th>ARR_DEL15</th>\n",
       "    </tr>\n",
       "  </thead>\n",
       "  <tbody>\n",
       "    <tr>\n",
       "      <th>177</th>\n",
       "      <td>1</td>\n",
       "      <td>9</td>\n",
       "      <td>6</td>\n",
       "      <td>MSP</td>\n",
       "      <td>SEA</td>\n",
       "      <td>701</td>\n",
       "      <td>1.0</td>\n",
       "    </tr>\n",
       "    <tr>\n",
       "      <th>178</th>\n",
       "      <td>1</td>\n",
       "      <td>9</td>\n",
       "      <td>6</td>\n",
       "      <td>DTW</td>\n",
       "      <td>JFK</td>\n",
       "      <td>1527</td>\n",
       "      <td>0.0</td>\n",
       "    </tr>\n",
       "    <tr>\n",
       "      <th>179</th>\n",
       "      <td>1</td>\n",
       "      <td>10</td>\n",
       "      <td>7</td>\n",
       "      <td>MSP</td>\n",
       "      <td>DTW</td>\n",
       "      <td>1348</td>\n",
       "      <td>1.0</td>\n",
       "    </tr>\n",
       "    <tr>\n",
       "      <th>180</th>\n",
       "      <td>1</td>\n",
       "      <td>10</td>\n",
       "      <td>7</td>\n",
       "      <td>DTW</td>\n",
       "      <td>MSP</td>\n",
       "      <td>1540</td>\n",
       "      <td>0.0</td>\n",
       "    </tr>\n",
       "    <tr>\n",
       "      <th>181</th>\n",
       "      <td>1</td>\n",
       "      <td>10</td>\n",
       "      <td>7</td>\n",
       "      <td>JFK</td>\n",
       "      <td>ATL</td>\n",
       "      <td>1325</td>\n",
       "      <td>0.0</td>\n",
       "    </tr>\n",
       "    <tr>\n",
       "      <th>182</th>\n",
       "      <td>1</td>\n",
       "      <td>10</td>\n",
       "      <td>7</td>\n",
       "      <td>JFK</td>\n",
       "      <td>ATL</td>\n",
       "      <td>610</td>\n",
       "      <td>0.0</td>\n",
       "    </tr>\n",
       "    <tr>\n",
       "      <th>183</th>\n",
       "      <td>1</td>\n",
       "      <td>10</td>\n",
       "      <td>7</td>\n",
       "      <td>JFK</td>\n",
       "      <td>SEA</td>\n",
       "      <td>1615</td>\n",
       "      <td>0.0</td>\n",
       "    </tr>\n",
       "    <tr>\n",
       "      <th>184</th>\n",
       "      <td>1</td>\n",
       "      <td>10</td>\n",
       "      <td>7</td>\n",
       "      <td>MSP</td>\n",
       "      <td>DTW</td>\n",
       "      <td>625</td>\n",
       "      <td>1.0</td>\n",
       "    </tr>\n",
       "  </tbody>\n",
       "</table>\n",
       "</div>"
      ],
      "text/plain": [
       "     MONTH  DAY_OF_MONTH  DAY_OF_WEEK ORIGIN DEST  CRS_DEP_TIME  ARR_DEL15\n",
       "177      1             9            6    MSP  SEA           701        1.0\n",
       "178      1             9            6    DTW  JFK          1527        0.0\n",
       "179      1            10            7    MSP  DTW          1348        1.0\n",
       "180      1            10            7    DTW  MSP          1540        0.0\n",
       "181      1            10            7    JFK  ATL          1325        0.0\n",
       "182      1            10            7    JFK  ATL           610        0.0\n",
       "183      1            10            7    JFK  SEA          1615        0.0\n",
       "184      1            10            7    MSP  DTW           625        1.0"
      ]
     },
     "execution_count": 9,
     "metadata": {},
     "output_type": "execute_result"
    }
   ],
   "source": [
    "# these values are missing if flights \n",
    "# have been cancelled or diverted to another airport.\n",
    "# These can be considered as late\n",
    "# We can use fun. \"dropna\" to remove these rows\n",
    "# but we use \"fillna\" to replace these NaN by '1'\n",
    "df = df.fillna({'ARR_DEL15': 1})\n",
    "df.iloc[177:185]"
   ]
  },
  {
   "cell_type": "code",
   "execution_count": 10,
   "metadata": {},
   "outputs": [
    {
     "data": {
      "text/html": [
       "<div>\n",
       "<style scoped>\n",
       "    .dataframe tbody tr th:only-of-type {\n",
       "        vertical-align: middle;\n",
       "    }\n",
       "\n",
       "    .dataframe tbody tr th {\n",
       "        vertical-align: top;\n",
       "    }\n",
       "\n",
       "    .dataframe thead th {\n",
       "        text-align: right;\n",
       "    }\n",
       "</style>\n",
       "<table border=\"1\" class=\"dataframe\">\n",
       "  <thead>\n",
       "    <tr style=\"text-align: right;\">\n",
       "      <th></th>\n",
       "      <th>MONTH</th>\n",
       "      <th>DAY_OF_MONTH</th>\n",
       "      <th>DAY_OF_WEEK</th>\n",
       "      <th>ORIGIN</th>\n",
       "      <th>DEST</th>\n",
       "      <th>CRS_DEP_TIME</th>\n",
       "      <th>ARR_DEL15</th>\n",
       "    </tr>\n",
       "  </thead>\n",
       "  <tbody>\n",
       "    <tr>\n",
       "      <th>0</th>\n",
       "      <td>1</td>\n",
       "      <td>1</td>\n",
       "      <td>5</td>\n",
       "      <td>ATL</td>\n",
       "      <td>SEA</td>\n",
       "      <td>1905</td>\n",
       "      <td>0.0</td>\n",
       "    </tr>\n",
       "    <tr>\n",
       "      <th>1</th>\n",
       "      <td>1</td>\n",
       "      <td>1</td>\n",
       "      <td>5</td>\n",
       "      <td>DTW</td>\n",
       "      <td>MSP</td>\n",
       "      <td>1345</td>\n",
       "      <td>0.0</td>\n",
       "    </tr>\n",
       "    <tr>\n",
       "      <th>2</th>\n",
       "      <td>1</td>\n",
       "      <td>1</td>\n",
       "      <td>5</td>\n",
       "      <td>ATL</td>\n",
       "      <td>SEA</td>\n",
       "      <td>940</td>\n",
       "      <td>0.0</td>\n",
       "    </tr>\n",
       "    <tr>\n",
       "      <th>3</th>\n",
       "      <td>1</td>\n",
       "      <td>1</td>\n",
       "      <td>5</td>\n",
       "      <td>SEA</td>\n",
       "      <td>MSP</td>\n",
       "      <td>819</td>\n",
       "      <td>0.0</td>\n",
       "    </tr>\n",
       "    <tr>\n",
       "      <th>4</th>\n",
       "      <td>1</td>\n",
       "      <td>1</td>\n",
       "      <td>5</td>\n",
       "      <td>SEA</td>\n",
       "      <td>DTW</td>\n",
       "      <td>2300</td>\n",
       "      <td>0.0</td>\n",
       "    </tr>\n",
       "  </tbody>\n",
       "</table>\n",
       "</div>"
      ],
      "text/plain": [
       "   MONTH  DAY_OF_MONTH  DAY_OF_WEEK ORIGIN DEST  CRS_DEP_TIME  ARR_DEL15\n",
       "0      1             1            5    ATL  SEA          1905        0.0\n",
       "1      1             1            5    DTW  MSP          1345        0.0\n",
       "2      1             1            5    ATL  SEA           940        0.0\n",
       "3      1             1            5    SEA  MSP           819        0.0\n",
       "4      1             1            5    SEA  DTW          2300        0.0"
      ]
     },
     "execution_count": 10,
     "metadata": {},
     "output_type": "execute_result"
    }
   ],
   "source": [
    "df.head()"
   ]
  },
  {
   "cell_type": "code",
   "execution_count": 11,
   "metadata": {},
   "outputs": [
    {
     "data": {
      "text/html": [
       "<div>\n",
       "<style scoped>\n",
       "    .dataframe tbody tr th:only-of-type {\n",
       "        vertical-align: middle;\n",
       "    }\n",
       "\n",
       "    .dataframe tbody tr th {\n",
       "        vertical-align: top;\n",
       "    }\n",
       "\n",
       "    .dataframe thead th {\n",
       "        text-align: right;\n",
       "    }\n",
       "</style>\n",
       "<table border=\"1\" class=\"dataframe\">\n",
       "  <thead>\n",
       "    <tr style=\"text-align: right;\">\n",
       "      <th></th>\n",
       "      <th>MONTH</th>\n",
       "      <th>DAY_OF_MONTH</th>\n",
       "      <th>DAY_OF_WEEK</th>\n",
       "      <th>ORIGIN</th>\n",
       "      <th>DEST</th>\n",
       "      <th>CRS_DEP_TIME</th>\n",
       "      <th>ARR_DEL15</th>\n",
       "    </tr>\n",
       "  </thead>\n",
       "  <tbody>\n",
       "    <tr>\n",
       "      <th>0</th>\n",
       "      <td>1</td>\n",
       "      <td>1</td>\n",
       "      <td>5</td>\n",
       "      <td>ATL</td>\n",
       "      <td>SEA</td>\n",
       "      <td>19</td>\n",
       "      <td>0.0</td>\n",
       "    </tr>\n",
       "    <tr>\n",
       "      <th>1</th>\n",
       "      <td>1</td>\n",
       "      <td>1</td>\n",
       "      <td>5</td>\n",
       "      <td>DTW</td>\n",
       "      <td>MSP</td>\n",
       "      <td>13</td>\n",
       "      <td>0.0</td>\n",
       "    </tr>\n",
       "    <tr>\n",
       "      <th>2</th>\n",
       "      <td>1</td>\n",
       "      <td>1</td>\n",
       "      <td>5</td>\n",
       "      <td>ATL</td>\n",
       "      <td>SEA</td>\n",
       "      <td>9</td>\n",
       "      <td>0.0</td>\n",
       "    </tr>\n",
       "    <tr>\n",
       "      <th>3</th>\n",
       "      <td>1</td>\n",
       "      <td>1</td>\n",
       "      <td>5</td>\n",
       "      <td>SEA</td>\n",
       "      <td>MSP</td>\n",
       "      <td>8</td>\n",
       "      <td>0.0</td>\n",
       "    </tr>\n",
       "    <tr>\n",
       "      <th>4</th>\n",
       "      <td>1</td>\n",
       "      <td>1</td>\n",
       "      <td>5</td>\n",
       "      <td>SEA</td>\n",
       "      <td>DTW</td>\n",
       "      <td>23</td>\n",
       "      <td>0.0</td>\n",
       "    </tr>\n",
       "  </tbody>\n",
       "</table>\n",
       "</div>"
      ],
      "text/plain": [
       "   MONTH  DAY_OF_MONTH  DAY_OF_WEEK ORIGIN DEST  CRS_DEP_TIME  ARR_DEL15\n",
       "0      1             1            5    ATL  SEA            19        0.0\n",
       "1      1             1            5    DTW  MSP            13        0.0\n",
       "2      1             1            5    ATL  SEA             9        0.0\n",
       "3      1             1            5    SEA  MSP             8        0.0\n",
       "4      1             1            5    SEA  DTW            23        0.0"
      ]
     },
     "execution_count": 11,
     "metadata": {},
     "output_type": "execute_result"
    }
   ],
   "source": [
    "# now bin (quatized) the departure time\n",
    "import math\n",
    "\n",
    "for index, row in df.iterrows():\n",
    "    df.loc[index, 'CRS_DEP_TIME'] = math.floor(row['CRS_DEP_TIME'] / 100)\n",
    "df.head()"
   ]
  },
  {
   "cell_type": "code",
   "execution_count": 12,
   "metadata": {},
   "outputs": [
    {
     "data": {
      "text/html": [
       "<div>\n",
       "<style scoped>\n",
       "    .dataframe tbody tr th:only-of-type {\n",
       "        vertical-align: middle;\n",
       "    }\n",
       "\n",
       "    .dataframe tbody tr th {\n",
       "        vertical-align: top;\n",
       "    }\n",
       "\n",
       "    .dataframe thead th {\n",
       "        text-align: right;\n",
       "    }\n",
       "</style>\n",
       "<table border=\"1\" class=\"dataframe\">\n",
       "  <thead>\n",
       "    <tr style=\"text-align: right;\">\n",
       "      <th></th>\n",
       "      <th>MONTH</th>\n",
       "      <th>DAY_OF_MONTH</th>\n",
       "      <th>DAY_OF_WEEK</th>\n",
       "      <th>CRS_DEP_TIME</th>\n",
       "      <th>ARR_DEL15</th>\n",
       "      <th>ORIGIN_ATL</th>\n",
       "      <th>ORIGIN_DTW</th>\n",
       "      <th>ORIGIN_JFK</th>\n",
       "      <th>ORIGIN_MSP</th>\n",
       "      <th>ORIGIN_SEA</th>\n",
       "      <th>DEST_ATL</th>\n",
       "      <th>DEST_DTW</th>\n",
       "      <th>DEST_JFK</th>\n",
       "      <th>DEST_MSP</th>\n",
       "      <th>DEST_SEA</th>\n",
       "    </tr>\n",
       "  </thead>\n",
       "  <tbody>\n",
       "    <tr>\n",
       "      <th>0</th>\n",
       "      <td>1</td>\n",
       "      <td>1</td>\n",
       "      <td>5</td>\n",
       "      <td>19</td>\n",
       "      <td>0.0</td>\n",
       "      <td>1</td>\n",
       "      <td>0</td>\n",
       "      <td>0</td>\n",
       "      <td>0</td>\n",
       "      <td>0</td>\n",
       "      <td>0</td>\n",
       "      <td>0</td>\n",
       "      <td>0</td>\n",
       "      <td>0</td>\n",
       "      <td>1</td>\n",
       "    </tr>\n",
       "    <tr>\n",
       "      <th>1</th>\n",
       "      <td>1</td>\n",
       "      <td>1</td>\n",
       "      <td>5</td>\n",
       "      <td>13</td>\n",
       "      <td>0.0</td>\n",
       "      <td>0</td>\n",
       "      <td>1</td>\n",
       "      <td>0</td>\n",
       "      <td>0</td>\n",
       "      <td>0</td>\n",
       "      <td>0</td>\n",
       "      <td>0</td>\n",
       "      <td>0</td>\n",
       "      <td>1</td>\n",
       "      <td>0</td>\n",
       "    </tr>\n",
       "    <tr>\n",
       "      <th>2</th>\n",
       "      <td>1</td>\n",
       "      <td>1</td>\n",
       "      <td>5</td>\n",
       "      <td>9</td>\n",
       "      <td>0.0</td>\n",
       "      <td>1</td>\n",
       "      <td>0</td>\n",
       "      <td>0</td>\n",
       "      <td>0</td>\n",
       "      <td>0</td>\n",
       "      <td>0</td>\n",
       "      <td>0</td>\n",
       "      <td>0</td>\n",
       "      <td>0</td>\n",
       "      <td>1</td>\n",
       "    </tr>\n",
       "    <tr>\n",
       "      <th>3</th>\n",
       "      <td>1</td>\n",
       "      <td>1</td>\n",
       "      <td>5</td>\n",
       "      <td>8</td>\n",
       "      <td>0.0</td>\n",
       "      <td>0</td>\n",
       "      <td>0</td>\n",
       "      <td>0</td>\n",
       "      <td>0</td>\n",
       "      <td>1</td>\n",
       "      <td>0</td>\n",
       "      <td>0</td>\n",
       "      <td>0</td>\n",
       "      <td>1</td>\n",
       "      <td>0</td>\n",
       "    </tr>\n",
       "    <tr>\n",
       "      <th>4</th>\n",
       "      <td>1</td>\n",
       "      <td>1</td>\n",
       "      <td>5</td>\n",
       "      <td>23</td>\n",
       "      <td>0.0</td>\n",
       "      <td>0</td>\n",
       "      <td>0</td>\n",
       "      <td>0</td>\n",
       "      <td>0</td>\n",
       "      <td>1</td>\n",
       "      <td>0</td>\n",
       "      <td>1</td>\n",
       "      <td>0</td>\n",
       "      <td>0</td>\n",
       "      <td>0</td>\n",
       "    </tr>\n",
       "  </tbody>\n",
       "</table>\n",
       "</div>"
      ],
      "text/plain": [
       "   MONTH  DAY_OF_MONTH  DAY_OF_WEEK  CRS_DEP_TIME  ARR_DEL15  ORIGIN_ATL  \\\n",
       "0      1             1            5            19        0.0           1   \n",
       "1      1             1            5            13        0.0           0   \n",
       "2      1             1            5             9        0.0           1   \n",
       "3      1             1            5             8        0.0           0   \n",
       "4      1             1            5            23        0.0           0   \n",
       "\n",
       "   ORIGIN_DTW  ORIGIN_JFK  ORIGIN_MSP  ORIGIN_SEA  DEST_ATL  DEST_DTW  \\\n",
       "0           0           0           0           0         0         0   \n",
       "1           1           0           0           0         0         0   \n",
       "2           0           0           0           0         0         0   \n",
       "3           0           0           0           1         0         0   \n",
       "4           0           0           0           1         0         1   \n",
       "\n",
       "   DEST_JFK  DEST_MSP  DEST_SEA  \n",
       "0         0         0         1  \n",
       "1         0         1         0  \n",
       "2         0         0         1  \n",
       "3         0         1         0  \n",
       "4         0         0         0  "
      ]
     },
     "execution_count": 12,
     "metadata": {},
     "output_type": "execute_result"
    }
   ],
   "source": [
    "# generate indicator column from ORIGIN & DEST column\n",
    "df = pd.get_dummies(df, columns=['ORIGIN', 'DEST'])\n",
    "df.head()"
   ]
  },
  {
   "cell_type": "code",
   "execution_count": 13,
   "metadata": {},
   "outputs": [],
   "source": [
    "from sklearn.model_selection import train_test_split\n",
    "train_x, test_x, train_y, test_y = train_test_split(df.drop('ARR_DEL15', axis=1), df['ARR_DEL15'], test_size=0.2, random_state=42)"
   ]
  },
  {
   "cell_type": "code",
   "execution_count": 14,
   "metadata": {},
   "outputs": [
    {
     "data": {
      "text/plain": [
       "(8984, 14)"
      ]
     },
     "execution_count": 14,
     "metadata": {},
     "output_type": "execute_result"
    }
   ],
   "source": [
    "train_x.shape"
   ]
  },
  {
   "cell_type": "code",
   "execution_count": 15,
   "metadata": {},
   "outputs": [
    {
     "data": {
      "text/plain": [
       "(2247, 14)"
      ]
     },
     "execution_count": 15,
     "metadata": {},
     "output_type": "execute_result"
    }
   ],
   "source": [
    "test_x.shape"
   ]
  },
  {
   "cell_type": "markdown",
   "metadata": {},
   "source": [
    "Training the Model"
   ]
  },
  {
   "cell_type": "code",
   "execution_count": 16,
   "metadata": {},
   "outputs": [
    {
     "name": "stderr",
     "output_type": "stream",
     "text": [
      "C:\\ProgramData\\Anaconda3\\lib\\site-packages\\sklearn\\ensemble\\weight_boosting.py:29: DeprecationWarning: numpy.core.umath_tests is an internal NumPy module and should not be imported. It will be removed in a future NumPy release.\n",
      "  from numpy.core.umath_tests import inner1d\n"
     ]
    },
    {
     "data": {
      "text/plain": [
       "RandomForestClassifier(bootstrap=True, class_weight=None, criterion='gini',\n",
       "            max_depth=None, max_features='auto', max_leaf_nodes=None,\n",
       "            min_impurity_decrease=0.0, min_impurity_split=None,\n",
       "            min_samples_leaf=1, min_samples_split=2,\n",
       "            min_weight_fraction_leaf=0.0, n_estimators=10, n_jobs=1,\n",
       "            oob_score=False, random_state=13, verbose=0, warm_start=False)"
      ]
     },
     "execution_count": 16,
     "metadata": {},
     "output_type": "execute_result"
    }
   ],
   "source": [
    "from sklearn.ensemble import RandomForestClassifier\n",
    "\n",
    "model = RandomForestClassifier(random_state=13)\n",
    "model.fit(train_x, train_y)"
   ]
  },
  {
   "cell_type": "markdown",
   "metadata": {},
   "source": [
    "Testing the Model"
   ]
  },
  {
   "cell_type": "code",
   "execution_count": 17,
   "metadata": {},
   "outputs": [
    {
     "data": {
      "text/plain": [
       "0.8602581219403649"
      ]
     },
     "execution_count": 17,
     "metadata": {},
     "output_type": "execute_result"
    }
   ],
   "source": [
    "predicted = model.predict(test_x)\n",
    "model.score(test_x, test_y)"
   ]
  },
  {
   "cell_type": "markdown",
   "metadata": {},
   "source": [
    "Generating AUC score"
   ]
  },
  {
   "cell_type": "code",
   "execution_count": 18,
   "metadata": {},
   "outputs": [],
   "source": [
    "'''There are several ways to measure the accuracy of a classification model.\n",
    "   One of the best overall measures for a binary classification model is\n",
    "   Area Under Receiver Operating Characteristic Curve (ROC AUC), \n",
    "   which essentially quantifies\n",
    "   how often the model will make a correct prediction regardless of the outcome\n",
    "'''\n",
    "# First we will generate a set prediction probabilities\n",
    "from sklearn.metrics import roc_auc_score\n",
    "probabilities = model.predict_proba(test_x)"
   ]
  },
  {
   "cell_type": "code",
   "execution_count": 19,
   "metadata": {},
   "outputs": [
    {
     "data": {
      "text/plain": [
       "0.6743824904998539"
      ]
     },
     "execution_count": 19,
     "metadata": {},
     "output_type": "execute_result"
    }
   ],
   "source": [
    "# Calculate ROC AUC score using scikit-learn's method roc_auc_score\n",
    "roc_auc_score(test_y, probabilities[:, 1])"
   ]
  },
  {
   "cell_type": "code",
   "execution_count": 20,
   "metadata": {},
   "outputs": [
    {
     "data": {
      "text/plain": [
       "array([[1882,   54],\n",
       "       [ 260,   51]], dtype=int64)"
      ]
     },
     "execution_count": 20,
     "metadata": {},
     "output_type": "execute_result"
    }
   ],
   "source": [
    "'''\n",
    "You can learn more about the model's behavior\n",
    "by generating a confusion matrix or an error matrix.\n",
    "The confusion matrix quantifies the number of times each answer was classified correctly or incorrectly.\n",
    "Specifically, it quantifies the number of false positives, false negatives, true positives, and true negatives\n",
    "'''\n",
    "from sklearn.metrics import confusion_matrix\n",
    "confusion_matrix(test_y, predicted)"
   ]
  },
  {
   "cell_type": "markdown",
   "metadata": {},
   "source": [
    "Measuring precision"
   ]
  },
  {
   "cell_type": "code",
   "execution_count": 21,
   "metadata": {},
   "outputs": [
    {
     "data": {
      "text/plain": [
       "0.9972375690607734"
      ]
     },
     "execution_count": 21,
     "metadata": {},
     "output_type": "execute_result"
    }
   ],
   "source": [
    "# there is other measure of accuracy for a clissification model\n",
    "# i.e., precision and recall\n",
    "from sklearn.metrics import precision_score\n",
    "\n",
    "train_predictions = model.predict(train_x)\n",
    "precision_score(train_y, train_predictions)"
   ]
  },
  {
   "cell_type": "markdown",
   "metadata": {},
   "source": [
    "Measuring recall"
   ]
  },
  {
   "cell_type": "code",
   "execution_count": 22,
   "metadata": {},
   "outputs": [
    {
     "data": {
      "text/plain": [
       "0.8650159744408946"
      ]
     },
     "execution_count": 22,
     "metadata": {},
     "output_type": "execute_result"
    }
   ],
   "source": [
    "from sklearn.metrics import recall_score\n",
    "recall_score(train_y, train_predictions)"
   ]
  },
  {
   "cell_type": "code",
   "execution_count": 23,
   "metadata": {},
   "outputs": [],
   "source": [
    "%matplotlib inline\n",
    "import matplotlib.pyplot as plt\n",
    "import seaborn as sns\n",
    "\n",
    "sns.set()"
   ]
  },
  {
   "cell_type": "markdown",
   "metadata": {},
   "source": [
    "Plot the ROC curve using matplotlib"
   ]
  },
  {
   "cell_type": "code",
   "execution_count": 24,
   "metadata": {},
   "outputs": [
    {
     "data": {
      "text/plain": [
       "Text(0,0.5,'True Positive Rate')"
      ]
     },
     "execution_count": 24,
     "metadata": {},
     "output_type": "execute_result"
    },
    {
     "data": {
      "image/png": "[encoded data removed]",
      "text/plain": [
       "<Figure size 432x288 with 1 Axes>"
      ]
     },
     "metadata": {
      "needs_background": "light"
     },
     "output_type": "display_data"
    }
   ],
   "source": [
    "from sklearn.metrics import roc_curve\n",
    "\n",
    "fpr, tpr, _ = roc_curve(test_y, probabilities[:, 1])\n",
    "plt.plot(fpr, tpr)\n",
    "plt.plot([0, 1], [0, 1], color='grey', lw=1, linestyle='--')\n",
    "plt.xlabel('False Positive Rate')\n",
    "plt.ylabel('True Positive Rate')"
   ]
  },
  {
   "cell_type": "markdown",
   "metadata": {},
   "source": [
    "Create a function using the model created earlier\n",
    "to determine whether the flight will be on-time or not"
   ]
  },
  {
   "cell_type": "code",
   "execution_count": 25,
   "metadata": {},
   "outputs": [],
   "source": [
    "def predict_delay(departure_date_time, origin, destination):\n",
    "    from datetime import datetime\n",
    "\n",
    "    try:\n",
    "        departure_date_time_parsed = datetime.strptime(departure_date_time, '%d/%m/%Y %H:%M:%S')\n",
    "    except ValueError as e:\n",
    "        return 'Error parsing date/time - {}'.format(e)\n",
    "\n",
    "    month = departure_date_time_parsed.month\n",
    "    day = departure_date_time_parsed.day\n",
    "    day_of_week = departure_date_time_parsed.isoweekday()\n",
    "    hour = departure_date_time_parsed.hour\n",
    "\n",
    "    origin = origin.upper()\n",
    "    destination = destination.upper()\n",
    "\n",
    "    input = [{'MONTH': month,\n",
    "              'DAY': day,\n",
    "              'DAY_OF_WEEK': day_of_week,\n",
    "              'CRS_DEP_TIME': hour,\n",
    "              'ORIGIN_ATL': 1 if origin == 'ATL' else 0,\n",
    "              'ORIGIN_DTW': 1 if origin == 'DTW' else 0,\n",
    "              'ORIGIN_JFK': 1 if origin == 'JFK' else 0,\n",
    "              'ORIGIN_MSP': 1 if origin == 'MSP' else 0,\n",
    "              'ORIGIN_SEA': 1 if origin == 'SEA' else 0,\n",
    "              'DEST_ATL': 1 if destination == 'ATL' else 0,\n",
    "              'DEST_DTW': 1 if destination == 'DTW' else 0,\n",
    "              'DEST_JFK': 1 if destination == 'JFK' else 0,\n",
    "              'DEST_MSP': 1 if destination == 'MSP' else 0,\n",
    "              'DEST_SEA': 1 if destination == 'SEA' else 0 }]\n",
    "\n",
    "    return model.predict_proba(pd.DataFrame(input))[0][0]"
   ]
  },
  {
   "cell_type": "markdown",
   "metadata": {},
   "source": [
    "Predicting whether a flight will be on-time\n",
    "    # e.g.\n",
    "    compute the probability that a flight from New York to Atlanta on the evening of October 1 will arrive on time"
   ]
  },
  {
   "cell_type": "code",
   "execution_count": 26,
   "metadata": {},
   "outputs": [
    {
     "data": {
      "text/plain": [
       "0.6"
      ]
     },
     "execution_count": 26,
     "metadata": {},
     "output_type": "execute_result"
    }
   ],
   "source": [
    "predict_delay('1/10/2018 21:45:00', 'JFK', 'ATL')"
   ]
  },
  {
   "cell_type": "markdown",
   "metadata": {},
   "source": [
    "flight the same day from Atlanta to Seattle will arrive on time"
   ]
  },
  {
   "cell_type": "code",
   "execution_count": 27,
   "metadata": {},
   "outputs": [
    {
     "data": {
      "text/plain": [
       "1.0"
      ]
     },
     "execution_count": 27,
     "metadata": {},
     "output_type": "execute_result"
    }
   ],
   "source": [
    "predict_delay('2/10/2018 10:00:00', 'ATL', 'SEA')"
   ]
  },
  {
   "cell_type": "markdown",
   "metadata": {},
   "source": [
    "Probability of on-time arrivals for a range of dates"
   ]
  },
  {
   "cell_type": "code",
   "execution_count": 28,
   "metadata": {},
   "outputs": [
    {
     "data": {
      "text/plain": [
       "(0.0, 1.0)"
      ]
     },
     "execution_count": 28,
     "metadata": {},
     "output_type": "execute_result"
    },
    {
     "data": {
      "image/png": "[encoded data removed]",
      "text/plain": [
       "<Figure size 432x288 with 1 Axes>"
      ]
     },
     "metadata": {
      "needs_background": "light"
     },
     "output_type": "display_data"
    }
   ],
   "source": [
    "import numpy as np\n",
    "\n",
    "labels = ('Oct 1', 'Oct 2', 'Oct 3', 'Oct 4', 'Oct 5', 'Oct 6', 'Oct 7')\n",
    "values = (predict_delay('1/10/2018 21:45:00', 'JFK', 'ATL'),\n",
    "          predict_delay('2/10/2018 21:45:00', 'JFK', 'ATL'),\n",
    "          predict_delay('3/10/2018 21:45:00', 'JFK', 'ATL'),\n",
    "          predict_delay('4/10/2018 21:45:00', 'JFK', 'ATL'),\n",
    "          predict_delay('5/10/2018 21:45:00', 'JFK', 'ATL'),\n",
    "          predict_delay('6/10/2018 21:45:00', 'JFK', 'ATL'),\n",
    "          predict_delay('7/10/2018 21:45:00', 'JFK', 'ATL'))\n",
    "alabels = np.arange(len(labels))\n",
    "\n",
    "plt.bar(alabels, values, align='center', alpha=0.5)\n",
    "plt.xticks(alabels, labels)\n",
    "plt.ylabel('Probability of On-Time Arrival')\n",
    "plt.ylim((0.0, 1.0))"
   ]
  },
  {
   "cell_type": "code",
   "execution_count": 29,
   "metadata": {},
   "outputs": [
    {
     "data": {
      "text/plain": [
       "(0.0, 1.0)"
      ]
     },
     "execution_count": 29,
     "metadata": {},
     "output_type": "execute_result"
    },
    {
     "data": {
      "image/png": "[encoded data removed]",
      "text/plain": [
       "<Figure size 432x288 with 1 Axes>"
      ]
     },
     "metadata": {
      "needs_background": "light"
     },
     "output_type": "display_data"
    }
   ],
   "source": [
    "import numpy as np\n",
    "\n",
    "labels = ('Oct 1', 'Oct 2', 'Oct 3', 'Oct 4', 'Oct 5', 'Oct 6', 'Oct 7')\n",
    "values = (predict_delay('10/4/2018 13:00:00', 'JFK', 'MSP'),\n",
    "          predict_delay('11/4/2018 13:00:00', 'JFK', 'MSP'),\n",
    "          predict_delay('12/4/2018 13:00:00', 'JFK', 'MSP'),\n",
    "          predict_delay('13/4/2018 13:00:00', 'JFK', 'MSP'),\n",
    "          predict_delay('14/4/2018 13:00:00', 'JFK', 'MSP'),\n",
    "          predict_delay('15/4/2018 13:00:00', 'JFK', 'MSP'),\n",
    "          predict_delay('16/4/2018 13:00:00', 'JFK', 'MSP'))\n",
    "alabels = np.arange(len(labels))\n",
    "\n",
    "plt.bar(alabels, values, align='center', alpha=0.5)\n",
    "plt.xticks(alabels, labels)\n",
    "plt.ylabel('Probability of On-Time Arrival')\n",
    "plt.ylim((0.0, 1.0))"
   ]
  },
  {
   "cell_type": "code",
   "execution_count": 30,
   "metadata": {},
   "outputs": [
    {
     "data": {
      "text/plain": [
       "(0.0, 1.0)"
      ]
     },
     "execution_count": 30,
     "metadata": {},
     "output_type": "execute_result"
    },
    {
     "data": {
      "image/png": "[encoded data removed]",
      "text/plain": [
       "<Figure size 432x288 with 1 Axes>"
      ]
     },
     "metadata": {
      "needs_background": "light"
     },
     "output_type": "display_data"
    }
   ],
   "source": [
    "import numpy as np\n",
    "\n",
    "labels = ('9:00 a.m.', 'noon', '3:00 p.m.', '6:00 p.m.', '9:00 p.m.')\n",
    "values = (predict_delay('30/1/2018 9:00:00', 'SEA', 'ATL'),\n",
    "          predict_delay('30/1/2018 12:00:00', 'SEA', 'ATL'),\n",
    "          predict_delay('30/1/2018 15:00:00', 'SEA', 'ATL'),\n",
    "          predict_delay('30/1/2018 18:00:00', 'SEA', 'ATL'),\n",
    "          predict_delay('30/1/2018 21:00:00', 'SEA', 'ATL'))\n",
    "alabels = np.arange(len(labels))\n",
    "\n",
    "plt.bar(alabels, values, align='center', alpha=0.5)\n",
    "plt.xticks(alabels, labels)\n",
    "plt.ylabel('Probability of On-Time Arrival')\n",
    "plt.ylim((0.0, 1.0))"
   ]
  },
  {
   "cell_type": "code",
   "execution_count": null,
   "metadata": {},
   "outputs": [],
   "source": []
  }
 ],
 "metadata": {
  "kernelspec": {
   "display_name": "Python 3",
   "language": "python",
   "name": "python3"
  },
  "language_info": {
   "codemirror_mode": {
    "name": "ipython",
    "version": 3
   },
   "file_extension": ".py",
   "mimetype": "text/x-python",
   "name": "python",
   "nbconvert_exporter": "python",
   "pygments_lexer": "ipython3",
   "version": "3.7.0"
  }
 },
 "nbformat": 4,
 "nbformat_minor": 2
}
